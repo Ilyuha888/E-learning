{
 "cells": [
  {
   "cell_type": "code",
   "execution_count": 4,
   "metadata": {},
   "outputs": [],
   "source": [
    "# Импортируем нужные библиотеки\n",
    "import pandas as pd \n",
    "import requests \n",
    "from urllib.parse import urlencode "
   ]
  },
  {
   "cell_type": "code",
   "execution_count": 18,
   "metadata": {},
   "outputs": [],
   "source": [
    "# Объявим нужные функции\n",
    "\n",
    "#Функция для получения датафрейма по ссылке на яндекс диск\n",
    "def get_df_rom_ya_disk(public_key):\n",
    "    # Используем api \n",
    "    base_url = 'https://cloud-api.yandex.net/v1/disk/public/resources/download?' \n",
    "    public_key = assessment_link\n",
    " \n",
    "    # Получаем url \n",
    "    final_url = base_url + urlencode(dict(public_key=public_key)) \n",
    "    response = requests.get(final_url) \n",
    "    download_url = response.json()['href'] \n",
    " \n",
    "    # Загружаем файл в df \n",
    "    download_response = requests.get(download_url) \n",
    "    return pd.read_csv(download_url, sep=',') "
   ]
  },
  {
   "cell_type": "code",
   "execution_count": 26,
   "metadata": {},
   "outputs": [],
   "source": [
    "# Считываем все файлы\n",
    "assessments = get_df_rom_ya_disk('https://disk.yandex.ru/d/iSVP1sZ7AdW7TQ')\n",
    "studentAssessment = get_df_rom_ya_disk('https://disk.yandex.ru/d/jmJxR8yhwCXlaw')\n",
    "studentRegistration = get_df_rom_ya_disk('https://disk.yandex.ru/d/lqHnH8NOZ458iw')"
   ]
  },
  {
   "cell_type": "code",
   "execution_count": null,
   "metadata": {},
   "outputs": [],
   "source": []
  }
 ],
 "metadata": {
  "kernelspec": {
   "display_name": "Python 3",
   "language": "python",
   "name": "python3"
  },
  "language_info": {
   "codemirror_mode": {
    "name": "ipython",
    "version": 3
   },
   "file_extension": ".py",
   "mimetype": "text/x-python",
   "name": "python",
   "nbconvert_exporter": "python",
   "pygments_lexer": "ipython3",
   "version": "3.7.3"
  }
 },
 "nbformat": 4,
 "nbformat_minor": 4
}
