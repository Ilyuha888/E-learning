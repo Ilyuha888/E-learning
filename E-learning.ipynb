{
 "cells": [
  {
   "cell_type": "markdown",
   "metadata": {},
   "source": [
    "# Подготовка"
   ]
  },
  {
   "cell_type": "code",
   "execution_count": 52,
   "metadata": {},
   "outputs": [],
   "source": [
    "# Импортируем нужные библиотеки\n",
    "import pandas as pd \n",
    "import requests \n",
    "from urllib.parse import urlencode \n",
    "import seaborn as sns"
   ]
  },
  {
   "cell_type": "code",
   "execution_count": 4,
   "metadata": {},
   "outputs": [],
   "source": [
    "# Объявим нужные функции\n",
    "\n",
    "#Функция для получения датафрейма по ссылке на яндекс диск\n",
    "def get_df_rom_ya_disk(public_key):\n",
    "    # Используем api \n",
    "    base_url = 'https://cloud-api.yandex.net/v1/disk/public/resources/download?' \n",
    " \n",
    "    # Получаем url \n",
    "    final_url = base_url + urlencode(dict(public_key=public_key)) \n",
    "    response = requests.get(final_url) \n",
    "    download_url = response.json()['href'] \n",
    " \n",
    "    # Загружаем файл в df \n",
    "    download_response = requests.get(download_url) \n",
    "    return pd.read_csv(download_url, sep=',') "
   ]
  },
  {
   "cell_type": "code",
   "execution_count": 69,
   "metadata": {},
   "outputs": [],
   "source": [
    "# Считываем все файлы\n",
    "assessments = get_df_rom_ya_disk('https://disk.yandex.ru/d/iSVP1sZ7AdW7TQ')\n",
    "courses = get_df_rom_ya_disk('https://disk.yandex.ru/d/jmJxR8yhwCXlaw')\n",
    "studentAssessment = get_df_rom_ya_disk('https://disk.yandex.ru/d/DYd4M5b_8RETsA')\n",
    "studentRegistration = get_df_rom_ya_disk('https://disk.yandex.ru/d/lqHnH8NOZ458iw')"
   ]
  },
  {
   "cell_type": "markdown",
   "metadata": {},
   "source": [
    "# Изучим данные"
   ]
  },
  {
   "cell_type": "markdown",
   "metadata": {},
   "source": [
    "## assessments\n",
    "### Анализ"
   ]
  },
  {
   "cell_type": "code",
   "execution_count": 117,
   "metadata": {
    "scrolled": true
   },
   "outputs": [
    {
     "name": "stdout",
     "output_type": "stream",
     "text": [
      "Размер таблицы: (206, 6) \n",
      "\n",
      "Первые 5 строк:\n",
      "   code_module code_presentation  id_assessment assessment_type   date  weight\n",
      "0         AAA             2013J           1752             TMA   19.0    10.0\n",
      "1         AAA             2013J           1753             TMA   54.0    20.0\n",
      "2         AAA             2013J           1754             TMA  117.0    20.0\n",
      "3         AAA             2013J           1755             TMA  166.0    20.0\n",
      "4         AAA             2013J           1756             TMA  215.0    30.0 \n",
      "\n",
      "Типы переменных:\n",
      " code_module           object\n",
      "code_presentation     object\n",
      "id_assessment          int64\n",
      "assessment_type       object\n",
      "date                 float64\n",
      "weight               float64\n",
      "dtype: object \n",
      "\n",
      "Наличие пропусков:\n",
      " code_module           0\n",
      "code_presentation     0\n",
      "id_assessment         0\n",
      "assessment_type       0\n",
      "date                 11\n",
      "weight                0\n",
      "dtype: int64 \n",
      "\n"
     ]
    }
   ],
   "source": [
    "# Общее\n",
    "# Посмотрим размеры таблицы\n",
    "print('Размер таблицы:', assessments.shape, '\\n')\n",
    "# Посмотрим верх таблицы\n",
    "print('Первые 5 строк:\\n', assessments.head(5), '\\n')\n",
    "# Посмотрим типы\n",
    "print('Типы переменных:\\n', assessments.dtypes, '\\n')\n",
    "# Посмотрим пропуски\n",
    "print('Наличие пропусков:\\n', assessments.isna().sum(), '\\n')"
   ]
  },
  {
   "cell_type": "code",
   "execution_count": 121,
   "metadata": {
    "scrolled": false
   },
   "outputs": [
    {
     "name": "stdout",
     "output_type": "stream",
     "text": [
      "Курсы и формы контроля:\n",
      " FFF    52\n",
      "BBB    42\n",
      "DDD    35\n",
      "GGG    30\n",
      "CCC    20\n",
      "EEE    15\n",
      "AAA    12\n",
      "Name: code_module, dtype: int64 \n",
      "\n",
      "Семестры и формы контроля:\n",
      " 2014B    57\n",
      "2014J    57\n",
      "2013J    53\n",
      "2013B    39\n",
      "Name: code_presentation, dtype: int64 \n",
      "\n",
      "Количество форм контроля: 206 \n",
      "\n",
      "Виды контроля:\n",
      " TMA     106\n",
      "CMA      76\n",
      "Exam     24\n",
      "Name: assessment_type, dtype: int64 \n",
      "\n",
      "Основные статистики по дедлайнам:\n",
      " count    195.000000\n",
      "mean     145.005128\n",
      "std       76.001119\n",
      "min       12.000000\n",
      "25%       71.000000\n",
      "50%      152.000000\n",
      "75%      222.000000\n",
      "max      261.000000\n",
      "Name: date, dtype: float64 \n",
      "\n",
      "Курсы без дедлайна:\n",
      "     code_module code_presentation  id_assessment assessment_type  date  weight\n",
      "5           AAA             2013J           1757            Exam   NaN   100.0\n",
      "11          AAA             2014J           1763            Exam   NaN   100.0\n",
      "23          BBB             2013B          14990            Exam   NaN   100.0\n",
      "35          BBB             2013J          15002            Exam   NaN   100.0\n",
      "47          BBB             2014B          15014            Exam   NaN   100.0\n",
      "53          BBB             2014J          15025            Exam   NaN   100.0\n",
      "62          CCC             2014B          24290            Exam   NaN   100.0\n",
      "63          CCC             2014B          40087            Exam   NaN   100.0\n",
      "72          CCC             2014J          24299            Exam   NaN   100.0\n",
      "73          CCC             2014J          40088            Exam   NaN   100.0\n",
      "108         DDD             2014J          25368            Exam   NaN   100.0 \n",
      "\n",
      ":\n",
      " count    206.000000\n",
      "mean      20.873786\n",
      "std       30.384224\n",
      "min        0.000000\n",
      "25%        0.000000\n",
      "50%       12.500000\n",
      "75%       24.250000\n",
      "max      100.000000\n",
      "Name: weight, dtype: float64\n"
     ]
    },
    {
     "data": {
      "text/plain": [
       "<seaborn.axisgrid.FacetGrid at 0x7f660ffdff60>"
      ]
     },
     "execution_count": 121,
     "metadata": {},
     "output_type": "execute_result"
    },
    {
     "data": {
      "image/png": "[encoded data removed]",
      "text/plain": [
       "<Figure size 360x360 with 1 Axes>"
      ]
     },
     "metadata": {
      "needs_background": "light"
     },
     "output_type": "display_data"
    },
    {
     "data": {
      "image/png": "[encoded data removed]",
      "text/plain": [
       "<Figure size 360x360 with 1 Axes>"
      ]
     },
     "metadata": {
      "needs_background": "light"
     },
     "output_type": "display_data"
    }
   ],
   "source": [
    "# Изучим подробнее все переменные\n",
    "\n",
    "#code_module\n",
    "#Уникальные значения\n",
    "print('Курсы и формы контроля:\\n', assessments.code_module.value_counts(), '\\n')\n",
    "\n",
    "#code_presentation\n",
    "#Уникальные значения\n",
    "print('Семестры и формы контроля:\\n', assessments.code_presentation.value_counts(), '\\n')\n",
    "      \n",
    "#id_assessment\n",
    "#Количество различных индексов\n",
    "print('Количество форм контроля:', len(assessments.id_assessment.unique().tolist()), '\\n')\n",
    "\n",
    "#assessment_type\n",
    "#Уникальные значения\n",
    "print('Виды контроля:\\n', assessments.assessment_type.value_counts(), '\\n')\n",
    "\n",
    "#date         \n",
    "#Посмотрим основные статистики\n",
    "print('Основные статистики по дедлайнам:\\n', assessments.date.describe(), '\\n')\n",
    "sns.displot(data = assessments, x = 'date')\n",
    "# Посмотрим, что за пропуски\n",
    "as_nodate = assessments.query('date.isnull()')\n",
    "print('Курсы без дедлайна:\\n', as_nodate, '\\n')\n",
    "\n",
    "#weight\n",
    "#Посмотрим основные статистики\n",
    "print(':\\n', assessments.weight.describe())\n",
    "sns.displot(data = assessments, x = 'weight')"
   ]
  },
  {
   "cell_type": "markdown",
   "metadata": {},
   "source": [
    "### Интересное\n",
    "- 7 предметов\n",
    "- 4 семестра\n",
    "- 206 форм контроля\n",
    "- 3 вида контроля\n",
    "- 11 пропусков в колонке date - всё соответствует экзаменам, возможно они не состоялись\n",
    "- выше есть картинки распределений весов и дат"
   ]
  },
  {
   "cell_type": "markdown",
   "metadata": {},
   "source": [
    "## courses\n",
    "### Анализ"
   ]
  },
  {
   "cell_type": "code",
   "execution_count": 116,
   "metadata": {},
   "outputs": [
    {
     "name": "stdout",
     "output_type": "stream",
     "text": [
      "Размер таблицы: (22, 3) \n",
      "\n",
      "Первые 5 строк:\n",
      "   code_module code_presentation  module_presentation_length\n",
      "0         AAA             2013J                         268\n",
      "1         AAA             2014J                         269\n",
      "2         BBB             2013J                         268\n",
      "3         BBB             2014J                         262\n",
      "4         BBB             2013B                         240 \n",
      "\n",
      "Типы переменных:\n",
      " code_module                   object\n",
      "code_presentation             object\n",
      "module_presentation_length     int64\n",
      "dtype: object \n",
      "\n",
      "Наличие пропусков:\n",
      " code_module                   0\n",
      "code_presentation             0\n",
      "module_presentation_length    0\n",
      "dtype: int64 \n",
      "\n"
     ]
    }
   ],
   "source": [
    "# Общее\n",
    "# Посмотрим размеры таблицы\n",
    "print('Размер таблицы:', courses.shape, '\\n')\n",
    "# Посмотрим верх таблицы\n",
    "print('Первые 5 строк:\\n', courses.head(5), '\\n')\n",
    "# Посмотрим типы\n",
    "print('Типы переменных:\\n', courses.dtypes, '\\n')\n",
    "# Посмотрим пропуски\n",
    "print('Наличие пропусков:\\n', courses.isna().sum(), '\\n')"
   ]
  },
  {
   "cell_type": "code",
   "execution_count": 122,
   "metadata": {},
   "outputs": [
    {
     "name": "stdout",
     "output_type": "stream",
     "text": [
      "Курсы и семестры, где они есть:\n",
      " DDD    4\n",
      "FFF    4\n",
      "BBB    4\n",
      "EEE    3\n",
      "GGG    3\n",
      "CCC    2\n",
      "AAA    2\n",
      "Name: code_module, dtype: int64 \n",
      "\n",
      "Семестры и курсы в них:\n",
      " 2014J    7\n",
      "2013J    6\n",
      "2014B    6\n",
      "2013B    3\n",
      "Name: code_presentation, dtype: int64 \n",
      "\n",
      "Основные статистики по длительности курса/семестра:\n",
      " count     22.000000\n",
      "mean     255.545455\n",
      "std       13.654677\n",
      "min      234.000000\n",
      "25%      241.000000\n",
      "50%      261.500000\n",
      "75%      268.000000\n",
      "max      269.000000\n",
      "Name: module_presentation_length, dtype: float64\n"
     ]
    },
    {
     "data": {
      "text/plain": [
       "<seaborn.axisgrid.FacetGrid at 0x7f661036e6d8>"
      ]
     },
     "execution_count": 122,
     "metadata": {},
     "output_type": "execute_result"
    },
    {
     "data": {
      "image/png": "[encoded data removed]",
      "text/plain": [
       "<Figure size 360x360 with 1 Axes>"
      ]
     },
     "metadata": {
      "needs_background": "light"
     },
     "output_type": "display_data"
    }
   ],
   "source": [
    "# Изучим подробнее все переменные\n",
    "\n",
    "#code_module\n",
    "#Уникальные значения\n",
    "print('Курсы и семестры, где они есть:\\n', courses.code_module.value_counts(), '\\n')\n",
    "\n",
    "#code_presentation\n",
    "#Уникальные значения\n",
    "print('Семестры и курсы в них:\\n', courses.code_presentation.value_counts(), '\\n')\n",
    "\n",
    "#module_presentation_length\n",
    "#Посмотрим основные статистики\n",
    "print('Основные статистики по длительности курса/семестра:\\n', courses.module_presentation_length.describe())\n",
    "sns.displot(data = courses, x = 'module_presentation_length')"
   ]
  },
  {
   "cell_type": "markdown",
   "metadata": {},
   "source": [
    "### Интересное\n",
    "- Количество предметов и семестров совпадает с предыдущей таблицей (это хорошо)\n",
    "- У каждого предмета было от 2 до 4 запусков\n",
    "- В каждом семестре было от 3 до 7 предметов\n",
    "- Сумма дней в семестрах одного года больше 365 - видимо, это не классические вузовские семестры, а скорее какие-то потоки набора, какая-то часть двух семестров идёт параллельно"
   ]
  },
  {
   "cell_type": "markdown",
   "metadata": {},
   "source": [
    "## studentAssessment\n",
    "### Анализ"
   ]
  },
  {
   "cell_type": "code",
   "execution_count": 115,
   "metadata": {},
   "outputs": [
    {
     "name": "stdout",
     "output_type": "stream",
     "text": [
      "Размер таблицы: (173912, 5) \n",
      "\n",
      "Первые 5 строк:\n",
      "    id_assessment  id_student  date_submitted  is_banked  score\n",
      "0           1752       11391              18          0   78.0\n",
      "1           1752       28400              22          0   70.0\n",
      "2           1752       31604              17          0   72.0\n",
      "3           1752       32885              26          0   69.0\n",
      "4           1752       38053              19          0   79.0 \n",
      "\n",
      "Типы переменных:\n",
      " id_assessment       int64\n",
      "id_student          int64\n",
      "date_submitted      int64\n",
      "is_banked           int64\n",
      "score             float64\n",
      "dtype: object \n",
      "\n",
      "Наличие пропусков:\n",
      " id_assessment       0\n",
      "id_student          0\n",
      "date_submitted      0\n",
      "is_banked           0\n",
      "score             173\n",
      "dtype: int64 \n",
      "\n"
     ]
    }
   ],
   "source": [
    "# Общее\n",
    "# Посмотрим размеры таблицы\n",
    "print('Размер таблицы:', studentAssessment.shape, '\\n')\n",
    "# Посмотрим верх таблицы\n",
    "print('Первые 5 строк:\\n', studentAssessment.head(5), '\\n')\n",
    "# Посмотрим типы\n",
    "print('Типы переменных:\\n', studentAssessment.dtypes, '\\n')\n",
    "# Посмотрим пропуски\n",
    "print('Наличие пропусков:\\n', studentAssessment.isna().sum(), '\\n')"
   ]
  },
  {
   "cell_type": "code",
   "execution_count": 113,
   "metadata": {},
   "outputs": [
    {
     "name": "stdout",
     "output_type": "stream",
     "text": [
      "#Количество различных форм контроля 188 \n",
      "\n",
      "Элементы оценивания, которых нет в пуле:\n",
      " Empty DataFrame\n",
      "Columns: [id_assessment, id_student, date_submitted, is_banked, score]\n",
      "Index: [] \n",
      "\n",
      "Курсы, которые никто не взял:\n",
      " 5       1757\n",
      "11      1763\n",
      "23     14990\n",
      "35     15002\n",
      "47     15014\n",
      "53     15025\n",
      "63     40087\n",
      "73     40088\n",
      "113    30713\n",
      "118    30718\n",
      "123    30723\n",
      "136    34872\n",
      "149    34885\n",
      "162    34898\n",
      "175    34911\n",
      "185    37424\n",
      "195    37434\n",
      "205    37444\n",
      "Name: id_assessment, dtype: int64 \n",
      "\n",
      "Нет дедлайна, но сдали:\n",
      "     code_module code_presentation  id_assessment assessment_type  date  weight\n",
      "62          CCC             2014B          24290            Exam   NaN   100.0\n",
      "72          CCC             2014J          24299            Exam   NaN   100.0\n",
      "108         DDD             2014J          25368            Exam   NaN   100.0 \n",
      "\n",
      "Результаты элементов контроля по которым не стояли дедлайны:\n",
      "                 count       mean        std   min   25%   50%   75%    max\n",
      "id_assessment                                                             \n",
      "24290           747.0  69.970549  22.712663   8.0  52.0  74.0  90.0  100.0\n",
      "24299          1168.0  68.234589  22.688603  10.0  50.0  70.0  90.0  100.0\n",
      "25368           950.0  63.308421  19.431613   0.0  49.0  62.0  78.0  100.0 \n",
      "\n",
      "Сколько уникальных студентов: 23369\n"
     ]
    }
   ],
   "source": [
    "# Изучим подробнее все переменные\n",
    "\n",
    "#id_assessment\n",
    "#Количество различных форм контроля\n",
    "print('#Количество различных форм контроля', len(studentAssessment.id_assessment.unique().tolist()), '\\n')\n",
    "# Хммм, элементов оценивания меньше... Давайте посмотрим каких элементов из общего пула нет\n",
    "# Но сначала глянем, вдруг есть элементы оценивания, которых нет в общем пуле\n",
    "print('Элементы оценивания, которых нет в пуле:\\n', \n",
    "                              studentAssessment.query('id_assessment not in @assessments.id_assessment'), '\\n')\n",
    "# Таких нет, хорошо\n",
    "# Давайте посмотрим каких элементов из общего пула нет\n",
    "abs_as = assessments.query('id_assessment not in @studentAssessment.id_assessment').id_assessment\n",
    "print('Курсы, которые никто не взял:\\n', abs_as, '\\n')\n",
    "# Хм. Интересно. Здесь почти все тесты без даты + ещё несколько\n",
    "# Давайте сравним\n",
    "no_date_but_taken = as_nodate.query('id_assessment not in @abs_as')\n",
    "print('Нет дедлайна, но сдали:\\n',no_date_but_taken, '\\n')\n",
    "# Таких элемента 3... Давайте посмотрим, какая вообще инфа по ним есть в этой таблице\n",
    "print(\"Результаты элементов контроля по которым не стояли дедлайны:\\n\",\n",
    "    studentAssessment\\\n",
    "    .query('id_assessment in @no_date_but_taken.id_assessment')\\\n",
    "    .groupby('id_assessment', as_index = True)\\\n",
    "    .score.describe(), '\\n'\n",
    ")\n",
    "# Ну, их сдавали. Возможно просто не было в таблице в с формами контроля дедлайна этого экзамена, поэтому там NA, \n",
    "# но при этом их сдавали\n",
    "# Что до элементов, у которых есть дедлайн в таблице со всеми формами контроля, а тут нет. Видимо их не сдал никто\n",
    "# Возможно курс был отменён\n",
    "# Что до элементов, у которых нет дедлайна и нет в этой таблице - их скорее всего никто не сдавал\n",
    "\n",
    "# Сравнить в нулевом вопросе инфу об экзаменах из всех таблиц!!!\n",
    "\n",
    "#id_student\n",
    "# Сколько уникальных студентов\n",
    "print(\"Сколько уникальных студентов:\",len(studentAssessment.id_student.unique().tolist()))\n",
    "\n",
    "#date_submitted\n",
    "\n",
    "#is_banked\n",
    "\n",
    "#score\n"
   ]
  },
  {
   "cell_type": "markdown",
   "metadata": {},
   "source": [
    "### Интересное\n",
    "- Количество элементов оценивания меньше чем в таблице assessments на (18)\n",
    "- Но все элементы оценивания есть в таблице assessments\n",
    "- "
   ]
  },
  {
   "cell_type": "markdown",
   "metadata": {},
   "source": [
    "## studentRegistration\n",
    "### Анализ"
   ]
  },
  {
   "cell_type": "code",
   "execution_count": 123,
   "metadata": {},
   "outputs": [
    {
     "name": "stdout",
     "output_type": "stream",
     "text": [
      "Размер таблицы: (32593, 5) \n",
      "\n",
      "Первые 5 строк:\n",
      "   code_module code_presentation  id_student  date_registration  \\\n",
      "0         AAA             2013J       11391             -159.0   \n",
      "1         AAA             2013J       28400              -53.0   \n",
      "2         AAA             2013J       30268              -92.0   \n",
      "3         AAA             2013J       31604              -52.0   \n",
      "4         AAA             2013J       32885             -176.0   \n",
      "\n",
      "   date_unregistration  \n",
      "0                  NaN  \n",
      "1                  NaN  \n",
      "2                 12.0  \n",
      "3                  NaN  \n",
      "4                  NaN   \n",
      "\n",
      "Типы переменных:\n",
      " code_module             object\n",
      "code_presentation       object\n",
      "id_student               int64\n",
      "date_registration      float64\n",
      "date_unregistration    float64\n",
      "dtype: object \n",
      "\n",
      "Наличие пропусков:\n",
      " code_module                0\n",
      "code_presentation          0\n",
      "id_student                 0\n",
      "date_registration         45\n",
      "date_unregistration    22521\n",
      "dtype: int64 \n",
      "\n"
     ]
    }
   ],
   "source": [
    "# Общее\n",
    "# Посмотрим размеры таблицы\n",
    "print('Размер таблицы:', studentRegistration.shape, '\\n')\n",
    "# Посмотрим верх таблицы\n",
    "print('Первые 5 строк:\\n', studentRegistration.head(5), '\\n')\n",
    "# Посмотрим типы\n",
    "print('Типы переменных:\\n', studentRegistration.dtypes, '\\n')\n",
    "# Посмотрим пропуски\n",
    "print('Наличие пропусков:\\n', studentRegistration.isna().sum(), '\\n')"
   ]
  },
  {
   "cell_type": "code",
   "execution_count": null,
   "metadata": {},
   "outputs": [],
   "source": [
    "# Изучим подробнее все переменные\n",
    "\n",
    "#code_module\n",
    "\n",
    "#code_presentation\n",
    "\n",
    "#id_student\n",
    "\n",
    "#date_registration\n",
    "\n",
    "#date_unregistration\n"
   ]
  },
  {
   "cell_type": "markdown",
   "metadata": {},
   "source": [
    "### Интересное\n",
    "- "
   ]
  }
 ],
 "metadata": {
  "kernelspec": {
   "display_name": "Python 3",
   "language": "python",
   "name": "python3"
  },
  "language_info": {
   "codemirror_mode": {
    "name": "ipython",
    "version": 3
   },
   "file_extension": ".py",
   "mimetype": "text/x-python",
   "name": "python",
   "nbconvert_exporter": "python",
   "pygments_lexer": "ipython3",
   "version": "3.7.3"
  }
 },
 "nbformat": 4,
 "nbformat_minor": 4
}
