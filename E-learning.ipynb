{
 "cells": [
  {
   "cell_type": "markdown",
   "metadata": {},
   "source": [
    "# Подготовка"
   ]
  },
  {
   "cell_type": "code",
   "execution_count": 66,
   "metadata": {},
   "outputs": [],
   "source": [
    "# Импортируем нужные библиотеки\n",
    "import pandas as pd \n",
    "import requests \n",
    "from urllib.parse import urlencode \n",
    "import seaborn as sns\n",
    "import numpy as np\n",
    "import matplotlib.pyplot as plt\n",
    "%matplotlib inline  "
   ]
  },
  {
   "cell_type": "code",
   "execution_count": 2,
   "metadata": {},
   "outputs": [],
   "source": [
    "# Объявим нужные функции\n",
    "\n",
    "#Функция для получения датафрейма по ссылке на яндекс диск\n",
    "def get_df_rom_ya_disk(public_key):\n",
    "    # Используем api \n",
    "    base_url = 'https://cloud-api.yandex.net/v1/disk/public/resources/download?' \n",
    " \n",
    "    # Получаем url \n",
    "    final_url = base_url + urlencode(dict(public_key=public_key)) \n",
    "    response = requests.get(final_url) \n",
    "    download_url = response.json()['href'] \n",
    " \n",
    "    # Загружаем файл в df \n",
    "    download_response = requests.get(download_url) \n",
    "    return pd.read_csv(download_url, sep=',') "
   ]
  },
  {
   "cell_type": "code",
   "execution_count": 3,
   "metadata": {},
   "outputs": [],
   "source": [
    "# Считываем все файлы\n",
    "assessments = get_df_rom_ya_disk('https://disk.yandex.ru/d/iSVP1sZ7AdW7TQ')\n",
    "courses = get_df_rom_ya_disk('https://disk.yandex.ru/d/jmJxR8yhwCXlaw')\n",
    "studentAssessment = get_df_rom_ya_disk('https://disk.yandex.ru/d/DYd4M5b_8RETsA')\n",
    "studentRegistration = get_df_rom_ya_disk('https://disk.yandex.ru/d/lqHnH8NOZ458iw')"
   ]
  },
  {
   "cell_type": "markdown",
   "metadata": {},
   "source": [
    "# Изучим данные"
   ]
  },
  {
   "cell_type": "markdown",
   "metadata": {},
   "source": [
    "## assessments\n",
    "### Анализ"
   ]
  },
  {
   "cell_type": "code",
   "execution_count": 4,
   "metadata": {
    "scrolled": false
   },
   "outputs": [
    {
     "name": "stdout",
     "output_type": "stream",
     "text": [
      "Размер таблицы: (206, 6) \n",
      "\n",
      "Первые 5 строк:\n",
      "   code_module code_presentation  id_assessment assessment_type   date  weight\n",
      "0         AAA             2013J           1752             TMA   19.0    10.0\n",
      "1         AAA             2013J           1753             TMA   54.0    20.0\n",
      "2         AAA             2013J           1754             TMA  117.0    20.0\n",
      "3         AAA             2013J           1755             TMA  166.0    20.0\n",
      "4         AAA             2013J           1756             TMA  215.0    30.0 \n",
      "\n",
      "Типы переменных:\n",
      " code_module           object\n",
      "code_presentation     object\n",
      "id_assessment          int64\n",
      "assessment_type       object\n",
      "date                 float64\n",
      "weight               float64\n",
      "dtype: object \n",
      "\n",
      "Наличие пропусков:\n",
      " code_module           0\n",
      "code_presentation     0\n",
      "id_assessment         0\n",
      "assessment_type       0\n",
      "date                 11\n",
      "weight                0\n",
      "dtype: int64 \n",
      "\n"
     ]
    }
   ],
   "source": [
    "# Общее\n",
    "# Посмотрим размеры таблицы\n",
    "print('Размер таблицы:', assessments.shape, '\\n')\n",
    "# Посмотрим верх таблицы\n",
    "print('Первые 5 строк:\\n', assessments.head(5), '\\n')\n",
    "# Посмотрим типы\n",
    "print('Типы переменных:\\n', assessments.dtypes, '\\n')\n",
    "# Посмотрим пропуски\n",
    "print('Наличие пропусков:\\n', assessments.isna().sum(), '\\n')"
   ]
  },
  {
   "cell_type": "code",
   "execution_count": 5,
   "metadata": {
    "scrolled": false
   },
   "outputs": [
    {
     "name": "stdout",
     "output_type": "stream",
     "text": [
      "Курсы и формы контроля:\n",
      " FFF    52\n",
      "BBB    42\n",
      "DDD    35\n",
      "GGG    30\n",
      "CCC    20\n",
      "EEE    15\n",
      "AAA    12\n",
      "Name: code_module, dtype: int64 \n",
      "\n",
      "Семестры и формы контроля:\n",
      " 2014B    57\n",
      "2014J    57\n",
      "2013J    53\n",
      "2013B    39\n",
      "Name: code_presentation, dtype: int64 \n",
      "\n",
      "Количество форм контроля: 206 \n",
      "\n",
      "Виды контроля:\n",
      " TMA     106\n",
      "CMA      76\n",
      "Exam     24\n",
      "Name: assessment_type, dtype: int64 \n",
      "\n",
      "Основные статистики по дедлайнам:\n",
      " count    195.000000\n",
      "mean     145.005128\n",
      "std       76.001119\n",
      "min       12.000000\n",
      "25%       71.000000\n",
      "50%      152.000000\n",
      "75%      222.000000\n",
      "max      261.000000\n",
      "Name: date, dtype: float64 \n",
      "\n",
      "Курсы без дедлайна:\n",
      "     code_module code_presentation  id_assessment assessment_type  date  weight\n",
      "5           AAA             2013J           1757            Exam   NaN   100.0\n",
      "11          AAA             2014J           1763            Exam   NaN   100.0\n",
      "23          BBB             2013B          14990            Exam   NaN   100.0\n",
      "35          BBB             2013J          15002            Exam   NaN   100.0\n",
      "47          BBB             2014B          15014            Exam   NaN   100.0\n",
      "53          BBB             2014J          15025            Exam   NaN   100.0\n",
      "62          CCC             2014B          24290            Exam   NaN   100.0\n",
      "63          CCC             2014B          40087            Exam   NaN   100.0\n",
      "72          CCC             2014J          24299            Exam   NaN   100.0\n",
      "73          CCC             2014J          40088            Exam   NaN   100.0\n",
      "108         DDD             2014J          25368            Exam   NaN   100.0 \n",
      "\n",
      ":\n",
      " count    206.000000\n",
      "mean      20.873786\n",
      "std       30.384224\n",
      "min        0.000000\n",
      "25%        0.000000\n",
      "50%       12.500000\n",
      "75%       24.250000\n",
      "max      100.000000\n",
      "Name: weight, dtype: float64\n"
     ]
    },
    {
     "data": {
      "text/plain": [
       "<seaborn.axisgrid.FacetGrid at 0x7f669ad55b00>"
      ]
     },
     "execution_count": 5,
     "metadata": {},
     "output_type": "execute_result"
    },
    {
     "data": {
      "image/png": "[encoded data removed]",
      "text/plain": [
       "<Figure size 360x360 with 1 Axes>"
      ]
     },
     "metadata": {
      "needs_background": "light"
     },
     "output_type": "display_data"
    },
    {
     "data": {
      "image/png": "[encoded data removed]",
      "text/plain": [
       "<Figure size 360x360 with 1 Axes>"
      ]
     },
     "metadata": {
      "needs_background": "light"
     },
     "output_type": "display_data"
    }
   ],
   "source": [
    "# Изучим подробнее все переменные\n",
    "\n",
    "#code_module\n",
    "#Уникальные значения\n",
    "print('Курсы и формы контроля:\\n', assessments.code_module.value_counts(), '\\n')\n",
    "\n",
    "#code_presentation\n",
    "#Уникальные значения\n",
    "print('Семестры и формы контроля:\\n', assessments.code_presentation.value_counts(), '\\n')\n",
    "      \n",
    "#id_assessment\n",
    "#Количество различных индексов\n",
    "print('Количество форм контроля:', len(assessments.id_assessment.unique().tolist()), '\\n')\n",
    "\n",
    "#assessment_type\n",
    "#Уникальные значения\n",
    "print('Виды контроля:\\n', assessments.assessment_type.value_counts(), '\\n')\n",
    "\n",
    "#date         \n",
    "#Посмотрим основные статистики\n",
    "print('Основные статистики по дедлайнам:\\n', assessments.date.describe(), '\\n')\n",
    "sns.displot(data = assessments, x = 'date')\n",
    "# Посмотрим, что за пропуски\n",
    "as_nodate = assessments.query('date.isnull()')\n",
    "print('Курсы без дедлайна:\\n', as_nodate, '\\n')\n",
    "\n",
    "#weight\n",
    "#Посмотрим основные статистики\n",
    "print(':\\n', assessments.weight.describe())\n",
    "sns.displot(data = assessments, x = 'weight')"
   ]
  },
  {
   "cell_type": "markdown",
   "metadata": {},
   "source": [
    "### Интересное\n",
    "- 7 предметов\n",
    "- 4 семестра\n",
    "- 206 форм контроля\n",
    "- 3 вида контроля\n",
    "- 11 пропусков в колонке date - всё соответствует экзаменам, возможно они не состоялись\n",
    "- выше есть картинки распределений весов и дат\n",
    "### Созданные переменные\n",
    "- as_nodate (df) - формы контроля без дедлайна"
   ]
  },
  {
   "cell_type": "markdown",
   "metadata": {},
   "source": [
    "## courses\n",
    "### Анализ"
   ]
  },
  {
   "cell_type": "code",
   "execution_count": 6,
   "metadata": {},
   "outputs": [
    {
     "name": "stdout",
     "output_type": "stream",
     "text": [
      "Размер таблицы: (22, 3) \n",
      "\n",
      "Первые 5 строк:\n",
      "   code_module code_presentation  module_presentation_length\n",
      "0         AAA             2013J                         268\n",
      "1         AAA             2014J                         269\n",
      "2         BBB             2013J                         268\n",
      "3         BBB             2014J                         262\n",
      "4         BBB             2013B                         240 \n",
      "\n",
      "Типы переменных:\n",
      " code_module                   object\n",
      "code_presentation             object\n",
      "module_presentation_length     int64\n",
      "dtype: object \n",
      "\n",
      "Наличие пропусков:\n",
      " code_module                   0\n",
      "code_presentation             0\n",
      "module_presentation_length    0\n",
      "dtype: int64 \n",
      "\n"
     ]
    }
   ],
   "source": [
    "# Общее\n",
    "# Посмотрим размеры таблицы\n",
    "print('Размер таблицы:', courses.shape, '\\n')\n",
    "# Посмотрим верх таблицы\n",
    "print('Первые 5 строк:\\n', courses.head(5), '\\n')\n",
    "# Посмотрим типы\n",
    "print('Типы переменных:\\n', courses.dtypes, '\\n')\n",
    "# Посмотрим пропуски\n",
    "print('Наличие пропусков:\\n', courses.isna().sum(), '\\n')"
   ]
  },
  {
   "cell_type": "code",
   "execution_count": 7,
   "metadata": {
    "scrolled": false
   },
   "outputs": [
    {
     "name": "stdout",
     "output_type": "stream",
     "text": [
      "Курсы и семестры, где они есть:\n",
      " BBB    4\n",
      "DDD    4\n",
      "FFF    4\n",
      "EEE    3\n",
      "GGG    3\n",
      "CCC    2\n",
      "AAA    2\n",
      "Name: code_module, dtype: int64 \n",
      "\n",
      "Семестры и курсы в них:\n",
      " 2014J    7\n",
      "2013J    6\n",
      "2014B    6\n",
      "2013B    3\n",
      "Name: code_presentation, dtype: int64 \n",
      "\n",
      "Основные статистики по длительности курса/семестра:\n",
      " count     22.000000\n",
      "mean     255.545455\n",
      "std       13.654677\n",
      "min      234.000000\n",
      "25%      241.000000\n",
      "50%      261.500000\n",
      "75%      268.000000\n",
      "max      269.000000\n",
      "Name: module_presentation_length, dtype: float64\n"
     ]
    },
    {
     "data": {
      "text/plain": [
       "<seaborn.axisgrid.FacetGrid at 0x7f669aa5aac8>"
      ]
     },
     "execution_count": 7,
     "metadata": {},
     "output_type": "execute_result"
    },
    {
     "data": {
      "image/png": "[encoded data removed]",
      "text/plain": [
       "<Figure size 360x360 with 1 Axes>"
      ]
     },
     "metadata": {
      "needs_background": "light"
     },
     "output_type": "display_data"
    }
   ],
   "source": [
    "# Изучим подробнее все переменные\n",
    "\n",
    "#code_module\n",
    "#Уникальные значения\n",
    "print('Курсы и семестры, где они есть:\\n', courses.code_module.value_counts(), '\\n')\n",
    "\n",
    "#code_presentation\n",
    "#Уникальные значения\n",
    "print('Семестры и курсы в них:\\n', courses.code_presentation.value_counts(), '\\n')\n",
    "\n",
    "#module_presentation_length\n",
    "#Посмотрим основные статистики\n",
    "print('Основные статистики по длительности курса/семестра:\\n', courses.module_presentation_length.describe())\n",
    "sns.displot(data = courses, x = 'module_presentation_length')"
   ]
  },
  {
   "cell_type": "markdown",
   "metadata": {},
   "source": [
    "### Интересное\n",
    "- Количество предметов и семестров совпадает с предыдущей таблицей (это хорошо)\n",
    "- У каждого предмета было от 2 до 4 запусков\n",
    "- В каждом семестре было от 3 до 7 предметов\n",
    "- Сумма дней в семестрах одного года больше 365 - видимо, это не классические вузовские семестры, а скорее какие-то потоки набора, какая-то часть двух семестров идёт параллельно"
   ]
  },
  {
   "cell_type": "markdown",
   "metadata": {},
   "source": [
    "## studentAssessment\n",
    "### Анализ"
   ]
  },
  {
   "cell_type": "code",
   "execution_count": 8,
   "metadata": {},
   "outputs": [
    {
     "name": "stdout",
     "output_type": "stream",
     "text": [
      "Размер таблицы: (173912, 5) \n",
      "\n",
      "Первые 5 строк:\n",
      "    id_assessment  id_student  date_submitted  is_banked  score\n",
      "0           1752       11391              18          0   78.0\n",
      "1           1752       28400              22          0   70.0\n",
      "2           1752       31604              17          0   72.0\n",
      "3           1752       32885              26          0   69.0\n",
      "4           1752       38053              19          0   79.0 \n",
      "\n",
      "Типы переменных:\n",
      " id_assessment       int64\n",
      "id_student          int64\n",
      "date_submitted      int64\n",
      "is_banked           int64\n",
      "score             float64\n",
      "dtype: object \n",
      "\n",
      "Наличие пропусков:\n",
      " id_assessment       0\n",
      "id_student          0\n",
      "date_submitted      0\n",
      "is_banked           0\n",
      "score             173\n",
      "dtype: int64 \n",
      "\n"
     ]
    }
   ],
   "source": [
    "# Общее\n",
    "# Посмотрим размеры таблицы\n",
    "print('Размер таблицы:', studentAssessment.shape, '\\n')\n",
    "# Посмотрим верх таблицы\n",
    "print('Первые 5 строк:\\n', studentAssessment.head(5), '\\n')\n",
    "# Посмотрим типы\n",
    "print('Типы переменных:\\n', studentAssessment.dtypes, '\\n')\n",
    "# Посмотрим пропуски\n",
    "print('Наличие пропусков:\\n', studentAssessment.isna().sum(), '\\n')"
   ]
  },
  {
   "cell_type": "code",
   "execution_count": 10,
   "metadata": {
    "scrolled": false
   },
   "outputs": [
    {
     "name": "stdout",
     "output_type": "stream",
     "text": [
      "#Количество различных форм контроля 188 \n",
      "\n",
      "Элементы оценивания, которых нет в пуле:\n",
      " Empty DataFrame\n",
      "Columns: [id_assessment, id_student, date_submitted, is_banked, score]\n",
      "Index: [] \n",
      "\n",
      "Элементы, которые никто не сдал:\n",
      "     code_module code_presentation  id_assessment assessment_type   date  \\\n",
      "5           AAA             2013J           1757            Exam    NaN   \n",
      "11          AAA             2014J           1763            Exam    NaN   \n",
      "23          BBB             2013B          14990            Exam    NaN   \n",
      "35          BBB             2013J          15002            Exam    NaN   \n",
      "47          BBB             2014B          15014            Exam    NaN   \n",
      "53          BBB             2014J          15025            Exam    NaN   \n",
      "63          CCC             2014B          40087            Exam    NaN   \n",
      "73          CCC             2014J          40088            Exam    NaN   \n",
      "113         EEE             2013J          30713            Exam  235.0   \n",
      "118         EEE             2014B          30718            Exam  228.0   \n",
      "123         EEE             2014J          30723            Exam  235.0   \n",
      "136         FFF             2013B          34872            Exam  222.0   \n",
      "149         FFF             2013J          34885            Exam  236.0   \n",
      "162         FFF             2014B          34898            Exam  227.0   \n",
      "175         FFF             2014J          34911            Exam  241.0   \n",
      "185         GGG             2013J          37424            Exam  229.0   \n",
      "195         GGG             2014B          37434            Exam  222.0   \n",
      "205         GGG             2014J          37444            Exam  229.0   \n",
      "\n",
      "     weight  \n",
      "5     100.0  \n",
      "11    100.0  \n",
      "23    100.0  \n",
      "35    100.0  \n",
      "47    100.0  \n",
      "53    100.0  \n",
      "63    100.0  \n",
      "73    100.0  \n",
      "113   100.0  \n",
      "118   100.0  \n",
      "123   100.0  \n",
      "136   100.0  \n",
      "149   100.0  \n",
      "162   100.0  \n",
      "175   100.0  \n",
      "185   100.0  \n",
      "195   100.0  \n",
      "205   100.0   \n",
      "\n",
      "Нет дедлайна, но сдали:\n",
      "     code_module code_presentation  id_assessment assessment_type  date  weight\n",
      "62          CCC             2014B          24290            Exam   NaN   100.0\n",
      "72          CCC             2014J          24299            Exam   NaN   100.0\n",
      "108         DDD             2014J          25368            Exam   NaN   100.0 \n",
      "\n",
      "Результаты элементов контроля по которым не стояли дедлайны:\n",
      "                 count       mean        std   min   25%   50%   75%    max\n",
      "id_assessment                                                             \n",
      "24290           747.0  69.970549  22.712663   8.0  52.0  74.0  90.0  100.0\n",
      "24299          1168.0  68.234589  22.688603  10.0  50.0  70.0  90.0  100.0\n",
      "25368           950.0  63.308421  19.431613   0.0  49.0  62.0  78.0  100.0 \n",
      "\n",
      "Сколько уникальных студентов, которые проходили формы контроля: 23369\n",
      "Основные статистики по дню сдачи:\n",
      " count    173912.000000\n",
      "mean        116.032942\n",
      "std          71.484148\n",
      "min         -11.000000\n",
      "25%          51.000000\n",
      "50%         116.000000\n",
      "75%         173.000000\n",
      "max         608.000000\n",
      "Name: date_submitted, dtype: float64\n",
      "Перезачтённые курсы:\n",
      " 0    0.989023\n",
      "1    0.010977\n",
      "Name: is_banked, dtype: float64 \n",
      "\n",
      "Основные статистики по оценке:\n",
      " count    173739.000000\n",
      "mean         75.799573\n",
      "std          18.798107\n",
      "min           0.000000\n",
      "25%          65.000000\n",
      "50%          80.000000\n",
      "75%          90.000000\n",
      "max         100.000000\n",
      "Name: score, dtype: float64\n"
     ]
    },
    {
     "data": {
      "text/plain": [
       "<seaborn.axisgrid.FacetGrid at 0x7f525c0afd68>"
      ]
     },
     "execution_count": 10,
     "metadata": {},
     "output_type": "execute_result"
    },
    {
     "data": {
      "image/png": "[encoded data removed]",
      "text/plain": [
       "<Figure size 720x720 with 1 Axes>"
      ]
     },
     "metadata": {
      "needs_background": "light"
     },
     "output_type": "display_data"
    },
    {
     "data": {
      "image/png": "[encoded data removed]",
      "text/plain": [
       "<Figure size 720x720 with 1 Axes>"
      ]
     },
     "metadata": {
      "needs_background": "light"
     },
     "output_type": "display_data"
    }
   ],
   "source": [
    "# Изучим подробнее все переменные\n",
    "\n",
    "#id_assessment\n",
    "#Количество различных форм контроля\n",
    "print('#Количество различных форм контроля', len(studentAssessment.id_assessment.unique().tolist()), '\\n')\n",
    "# Хммм, элементов оценивания меньше... Давайте посмотрим каких элементов из общего пула нет\n",
    "# Но сначала глянем, вдруг есть элементы оценивания, которых нет в общем пуле\n",
    "print('Элементы оценивания, которых нет в пуле:\\n', \n",
    "                              studentAssessment.query('id_assessment not in @assessments.id_assessment'), '\\n')\n",
    "# Таких нет, хорошо\n",
    "# Давайте посмотрим каких элементов из общего пула нет\n",
    "abs_as = assessments.query('id_assessment not in @studentAssessment.id_assessment')\n",
    "print('Элементы, которые никто не сдал:\\n', abs_as, '\\n')\n",
    "abs_as = abs_as.id_assessment\n",
    "# Хм. Интересно. Здесь почти все тесты без даты + ещё несколько\n",
    "# Давайте сравним\n",
    "no_date_but_taken = as_nodate.query('id_assessment not in @abs_as')\n",
    "print('Нет дедлайна, но сдали:\\n',no_date_but_taken, '\\n')\n",
    "# Таких элемента 3... Давайте посмотрим, какая вообще инфа по ним есть в этой таблице\n",
    "print(\"Результаты элементов контроля по которым не стояли дедлайны:\\n\",\n",
    "    studentAssessment\\\n",
    "    .query('id_assessment in @no_date_but_taken.id_assessment')\\\n",
    "    .groupby('id_assessment', as_index = True)\\\n",
    "    .score.describe(), '\\n'\n",
    ")\n",
    "# Ну, их сдавали. Возможно просто не было в таблице в с формами контроля дедлайна этого экзамена, поэтому там NA, \n",
    "# но при этом их сдавали\n",
    "# Что до элементов, у которых есть дедлайн в таблице со всеми формами контроля, а тут нет. Видимо их не сдал никто\n",
    "# Возможно курс был отменён\n",
    "# Что до элементов, у которых нет дедлайна и нет в этой таблице - их скорее всего никто не сдавал\n",
    "\n",
    "#id_student\n",
    "# Сколько уникальных студентов\n",
    "print(\"Сколько уникальных студентов, которые проходили формы контроля:\",len(studentAssessment.id_student.unique().tolist()))\n",
    "\n",
    "#date_submitted\n",
    "# Посмотрим основные статистики\n",
    "print('Основные статистики по дню сдачи:\\n', studentAssessment.date_submitted.describe())\n",
    "sns.displot(data = studentAssessment, x = 'date_submitted', height = 10)\n",
    "# Хм, есть те, кто сдал форму контроля раньше начала семестра\n",
    "\n",
    "#is_banked\n",
    "#Уникальные значения\n",
    "print('Перезачтённые курсы:\\n', studentAssessment.is_banked.value_counts(normalize = True), '\\n')\n",
    "\n",
    "#score\n",
    "# Посмотрим основные статистики\n",
    "print('Основные статистики по оценке:\\n', studentAssessment.score.describe())\n",
    "sns.displot(data = studentAssessment, x = 'score', height = 10)"
   ]
  },
  {
   "cell_type": "markdown",
   "metadata": {},
   "source": [
    "### Интересное\n",
    "- Количество элементов оценивания меньше чем в таблице assessments на (18)\n",
    "- Но все элементы оценивания есть в таблице assessments\n",
    "- Есть элементы, которые никто не сдавал\n",
    "- Есть элементы без дедлайна, которые кто-то сдал\n",
    "- Есть те, кто сдал форму контроля раньше начала семестра... Причём это не те штуки, которые были перезачтены\n",
    "- Распределение оценок смещено в сторону высоких оценок, с тремя модами (возможно это связано с тем, что если форма не сдавалась, то в таблицу она не заносилась, поэтому в таблице нет инфы о потенциально нулевых экзаменах)\n",
    "### Созданные переменные\n",
    "- abs_as (list) - формы, контроля оценок по которымм нет в базе\n",
    "- no_date_but_taken (df) - формы контроля без дедлайна, которые кто-то сдал"
   ]
  },
  {
   "cell_type": "markdown",
   "metadata": {},
   "source": [
    "## studentRegistration\n",
    "### Анализ"
   ]
  },
  {
   "cell_type": "code",
   "execution_count": 9,
   "metadata": {
    "scrolled": false
   },
   "outputs": [
    {
     "name": "stdout",
     "output_type": "stream",
     "text": [
      "Размер таблицы: (32593, 5) \n",
      "\n",
      "Первые 5 строк:\n",
      "   code_module code_presentation  id_student  date_registration  \\\n",
      "0         AAA             2013J       11391             -159.0   \n",
      "1         AAA             2013J       28400              -53.0   \n",
      "2         AAA             2013J       30268              -92.0   \n",
      "3         AAA             2013J       31604              -52.0   \n",
      "4         AAA             2013J       32885             -176.0   \n",
      "\n",
      "   date_unregistration  \n",
      "0                  NaN  \n",
      "1                  NaN  \n",
      "2                 12.0  \n",
      "3                  NaN  \n",
      "4                  NaN   \n",
      "\n",
      "Типы переменных:\n",
      " code_module             object\n",
      "code_presentation       object\n",
      "id_student               int64\n",
      "date_registration      float64\n",
      "date_unregistration    float64\n",
      "dtype: object \n",
      "\n",
      "Наличие пропусков:\n",
      " code_module                0\n",
      "code_presentation          0\n",
      "id_student                 0\n",
      "date_registration         45\n",
      "date_unregistration    22521\n",
      "dtype: int64 \n",
      "\n"
     ]
    }
   ],
   "source": [
    "# Общее\n",
    "# Посмотрим размеры таблицы\n",
    "print('Размер таблицы:', studentRegistration.shape, '\\n')\n",
    "# Посмотрим верх таблицы\n",
    "print('Первые 5 строк:\\n', studentRegistration.head(5), '\\n')\n",
    "# Посмотрим типы\n",
    "print('Типы переменных:\\n', studentRegistration.dtypes, '\\n')\n",
    "# Посмотрим пропуски\n",
    "print('Наличие пропусков:\\n', studentRegistration.isna().sum(), '\\n')"
   ]
  },
  {
   "cell_type": "code",
   "execution_count": 10,
   "metadata": {
    "scrolled": false
   },
   "outputs": [
    {
     "name": "stdout",
     "output_type": "stream",
     "text": [
      "Предметы и за-/отписавшиеся на них:\n",
      "   code_module  date_registration  date_unregistration\n",
      "0         AAA                748                  126\n",
      "1         BBB               7900                 2377\n",
      "2         CCC               4426                 1947\n",
      "3         DDD               6257                 2235\n",
      "4         EEE               2932                  718\n",
      "5         FFF               7751                 2380\n",
      "6         GGG               2534                  289 \n",
      "\n",
      "Семестры и за-/отписавшиеся во время них:\n",
      "   code_presentation  date_registration  date_unregistration\n",
      "0             2013B               4676                 1347\n",
      "1             2013J               8835                 2376\n",
      "2             2014B               7786                 2610\n",
      "3             2014J              11251                 3739 \n",
      "\n",
      "Сколько уникальных студентов, которые записывались на курс: 28785\n",
      "Основные статистики по записи на курус:\n",
      " count    32548.000000\n",
      "mean       -69.411300\n",
      "std         49.260522\n",
      "min       -322.000000\n",
      "25%       -100.000000\n",
      "50%        -57.000000\n",
      "75%        -29.000000\n",
      "max        167.000000\n",
      "Name: date_registration, dtype: float64\n",
      "Основные статистики по отказу от курса:\n",
      " count    10072.000000\n",
      "mean        49.757645\n",
      "std         82.460890\n",
      "min       -365.000000\n",
      "25%         -2.000000\n",
      "50%         27.000000\n",
      "75%        109.000000\n",
      "max        444.000000\n",
      "Name: date_unregistration, dtype: float64\n"
     ]
    },
    {
     "data": {
      "text/plain": [
       "<seaborn.axisgrid.FacetGrid at 0x7f669b689cf8>"
      ]
     },
     "execution_count": 10,
     "metadata": {},
     "output_type": "execute_result"
    },
    {
     "data": {
      "image/png": "[encoded data removed]",
      "text/plain": [
       "<Figure size 720x720 with 1 Axes>"
      ]
     },
     "metadata": {
      "needs_background": "light"
     },
     "output_type": "display_data"
    },
    {
     "data": {
      "image/png": "[encoded data removed]",
      "text/plain": [
       "<Figure size 720x720 with 1 Axes>"
      ]
     },
     "metadata": {
      "needs_background": "light"
     },
     "output_type": "display_data"
    }
   ],
   "source": [
    "# Изучим подробнее все переменные\n",
    "\n",
    "#code_module\n",
    "#Сколько за-/отписалось\n",
    "reg_count_module = studentRegistration\\\n",
    "    .groupby('code_module', as_index = False)[['date_registration', 'date_unregistration']]\\\n",
    "    .agg({'date_registration':'count','date_unregistration':'count'})\n",
    "print('Предметы и за-/отписавшиеся на них:\\n', reg_count_module, '\\n')\n",
    "\n",
    "#code_presentation\n",
    "#Сколько за-/отписалось\n",
    "reg_count_pres = studentRegistration\\\n",
    "    .groupby('code_presentation', as_index = False)[['date_registration', 'date_unregistration']]\\\n",
    "    .agg({'date_registration':'count','date_unregistration':'count'})\n",
    "print('Семестры и за-/отписавшиеся во время них:\\n', reg_count_pres, '\\n')\n",
    "\n",
    "#id_student\n",
    "# Сколько уникальных студентов\n",
    "print(\"Сколько уникальных студентов, которые записывались на курс:\",len(studentRegistration.id_student.unique().tolist()))\n",
    "\n",
    "#date_registration\n",
    "# Посмотрим основные статистики\n",
    "print('Основные статистики по записи на курус:\\n', studentRegistration.date_registration.describe())\n",
    "sns.displot(data = studentRegistration, x = 'date_registration', height = 10)\n",
    "\n",
    "#date_unregistration\n",
    "# Посмотрим основные статистики\n",
    "print('Основные статистики по отказу от курса:\\n', studentRegistration.date_unregistration.describe())\n",
    "sns.displot(data = studentRegistration, x = 'date_unregistration', height = 10)"
   ]
  },
  {
   "cell_type": "markdown",
   "metadata": {},
   "source": [
    "### Интересное\n",
    "- Все те-же 7 курса и 4 семестра\n",
    "- Есть тенденция у студентов записываться на курс не задолго до начала курса и отписываться скорее вначале курса\n",
    "### Созданные переменные\n",
    "- reg_count_module (df) - предметы и за-/отписавшиеся от них\n",
    "- reg_count_pres (df) - модули и за-/отписавшиеся от них"
   ]
  },
  {
   "cell_type": "markdown",
   "metadata": {},
   "source": [
    "# Вопросы/задачи\n",
    "## Что считается курсом?\n",
    "### Решение"
   ]
  },
  {
   "cell_type": "code",
   "execution_count": 11,
   "metadata": {
    "scrolled": false
   },
   "outputs": [
    {
     "name": "stdout",
     "output_type": "stream",
     "text": [
      "Информация о курсах с делайнами и без:\n",
      "                               Total With_deadline\n",
      "                              count         count\n",
      "code_module code_presentation                    \n",
      "AAA         2013J                 1             0\n",
      "            2014J                 1             0\n",
      "BBB         2013B                 1             0\n",
      "            2013J                 1             0\n",
      "            2014B                 1             0\n",
      "            2014J                 1             0\n",
      "CCC         2014B                 2             0\n",
      "            2014J                 2             0\n",
      "DDD         2013B                 1             1\n",
      "            2013J                 1             1\n",
      "            2014B                 1             1\n",
      "            2014J                 1             0\n",
      "EEE         2013J                 1             1\n",
      "            2014B                 1             1\n",
      "            2014J                 1             1\n",
      "FFF         2013B                 1             1\n",
      "            2013J                 1             1\n",
      "            2014B                 1             1\n",
      "            2014J                 1             1\n",
      "GGG         2013J                 1             1\n",
      "            2014B                 1             1\n",
      "            2014J                 1             1 \n",
      "\n",
      "Количество экзаменов всего: 24 \n",
      "\n",
      "Информация об экзаменах с полученными оценками:\n",
      "    id_assessment  submitted\n",
      "0          24290        747\n",
      "1          24299       1168\n",
      "2          25340        602\n",
      "3          25354        968\n",
      "4          25361        524\n",
      "5          25368        950 \n",
      "\n",
      "Курсы, где есть экзамены, за которые кто-то получил оценки:\n",
      "     code_module code_presentation  id_assessment assessment_type   date  \\\n",
      "62          CCC             2014B          24290            Exam    NaN   \n",
      "72          CCC             2014J          24299            Exam    NaN   \n",
      "87          DDD             2013B          25340            Exam  240.0   \n",
      "94          DDD             2013J          25354            Exam  261.0   \n",
      "101         DDD             2014B          25361            Exam  241.0   \n",
      "108         DDD             2014J          25368            Exam    NaN   \n",
      "\n",
      "     weight  \n",
      "62    100.0  \n",
      "72    100.0  \n",
      "87    100.0  \n",
      "94    100.0  \n",
      "101   100.0  \n",
      "108   100.0   \n",
      "\n",
      "Курсы и количество их закончивших студентов:\n",
      "                               finished\n",
      "                                 count\n",
      "code_module code_presentation         \n",
      "AAA         2013J                  323\n",
      "            2014J                  299\n",
      "BBB         2013B                 1262\n",
      "            2013J                 1590\n",
      "            2014B                 1124\n",
      "            2014J                 1556\n",
      "CCC         2014B                 1038\n",
      "            2014J                 1449\n",
      "DDD         2013B                  872\n",
      "            2013J                 1254\n",
      "            2014B                  739\n",
      "            2014J                 1172\n",
      "EEE         2013J                  809\n",
      "            2014B                  521\n",
      "            2014J                  886\n",
      "FFF         2013B                 1203\n",
      "            2013J                 1606\n",
      "            2014B                 1039\n",
      "            2014J                 1534\n",
      "GGG         2013J                  887\n",
      "            2014B                  733\n",
      "            2014J                  625 \n",
      "\n",
      "Количество курсов, которые кто-то закончил: 22 \n",
      "\n",
      "Курсы, где есть хоть какие-то тесты: 22 \n",
      "\n",
      "Курсов с итоговой оценкой: 19\n",
      "Курсы без итоговой оценки    code_module code_presentation\n",
      "19         GGG             2013J\n",
      "20         GGG             2014B\n",
      "21         GGG             2014J \n",
      "\n",
      "Максимальное количество прохождения форм контроля одним студентом: 1 \n",
      "\n",
      "Оценки студентов по экзаменам:\n",
      "       id_student code_module code_presentation  ex_score\n",
      "0          23698         CCC             2014J      80.0\n",
      "1          24213         DDD             2014B      58.0\n",
      "2          27116         CCC             2014J      96.0\n",
      "3          28046         DDD             2013J      40.0\n",
      "4          28787         CCC             2014J      44.0\n",
      "...          ...         ...               ...       ...\n",
      "4954     2694886         DDD             2014B      69.0\n",
      "4955     2694933         DDD             2013B      73.0\n",
      "4956     2695608         DDD             2013J      73.0\n",
      "4957     2697181         CCC             2014B      80.0\n",
      "4958     2698251         DDD             2014B      44.0\n",
      "\n",
      "[4959 rows x 4 columns] \n",
      "\n",
      "Максимальная оценка за курс (накоп/экзамен)\n",
      "    code_module code_presentation  res_score\n",
      "0          AAA             2013J      91.00\n",
      "1          AAA             2014J      91.60\n",
      "2          BBB             2013B      98.13\n",
      "3          BBB             2013J      96.46\n",
      "4          BBB             2014B      95.09\n",
      "5          BBB             2014J      97.30\n",
      "6          CCC             2014B     100.00\n",
      "7          CCC             2014J     100.00\n",
      "8          DDD             2013B      98.00\n",
      "9          DDD             2013J     100.00\n",
      "10         DDD             2014B     100.00\n",
      "11         DDD             2014J     100.00\n",
      "12         EEE             2013J      99.72\n",
      "13         EEE             2014B      97.20\n",
      "14         EEE             2014J      99.56\n",
      "15         FFF             2013B      99.25\n",
      "16         FFF             2013J      98.00\n",
      "17         FFF             2014B      97.25\n",
      "18         FFF             2014J      97.50\n",
      "19         GGG             2013J       0.00\n",
      "20         GGG             2014B       0.00\n",
      "21         GGG             2014J       0.00 \n",
      "\n"
     ]
    }
   ],
   "source": [
    "# Исследуя данные я заметил некоторые интересные особенности. Есть экзаменые, которые должны были состояться, но не состоялись\n",
    "# Причины могут быть разные - предмет отменён, до конца семестра все отписались и др...\n",
    "# Это может нам дать ключ к тому, что считать курсом\n",
    "# Я предлагаю считать курсом каждое уникальное сочетание предмета и семестра, где:\n",
    "# 1. Хотя бы один студент получил оценку за итоговый экзамен (может быть ноль)\n",
    "# 2. Хотя бы один студент не отичислился до конца курса\n",
    "\n",
    "# Из анализа таблицы courses мы знаем о том, что курсов было потенциально 22\n",
    "\n",
    "# Посмотрим, сколько экзаменов должно было быть из таблицы assessments для каждого курса\n",
    "ex_deadline = assessments.query('assessment_type == \"Exam\"')\\\n",
    "    .groupby(['code_module','code_presentation'], as_index = False)[['assessment_type','date']]\\\n",
    "    .agg(['count'])\\\n",
    "    .rename(columns = {'assessment_type':'Total','date':'With_deadline'})\n",
    "print('Информация о курсах с делайнами и без:\\n',ex_deadline, '\\n')\n",
    "\n",
    "# Посмотрим, за сколько экзаменов хотя бы один студент получил оценку по таблице studentAssessment\n",
    "\n",
    "# Список экзаменов\n",
    "exes = assessments.query('assessment_type == \"Exam\"')['id_assessment'].tolist()\n",
    "print('Количество экзаменов всего:', len(exes),'\\n')\n",
    "\n",
    "# У скольких человек есть оценка по экзамену\n",
    "ex_subm = studentAssessment.query('id_assessment in @exes')\\\n",
    "    .groupby('id_assessment', as_index = False)['score']\\\n",
    "    .agg('count')\\\n",
    "    .rename(columns = {'score':'submitted'})\n",
    "\n",
    "print('Информация об экзаменах с полученными оценками:\\n', ex_subm, '\\n')\n",
    "\n",
    "print('Курсы, где есть экзамены, за которые кто-то получил оценки:\\n',\n",
    "      assessments.query('id_assessment in @ex_subm.id_assessment.tolist()'),'\\n')\n",
    "\n",
    "# Всего из 22 курсов остаётся 6 уникальных, что заставило меня задуматься\n",
    "# Возможно сдача экзамена не обязательна, \n",
    "# возможно можно закрыть курс другими тестами, получив автомат\n",
    "# В описании у нас сказано, что экзаменом курс завершается обычно, но не всегда\n",
    "# Может у всех автотам был. Условие экзамена уберём\n",
    "# Можно ли считать курсом предмет, который никто не смог закрыть?\n",
    "# Теоретически да...\n",
    "\n",
    "# Тогда обновим наше представление:\n",
    "\n",
    "# Я предлагаю считать курсом каждое уникальное сочетание предмета и семестра, где:\n",
    "# 1. Хотя бы один студент не отичислился до конца курса\n",
    "\n",
    "# Возьмём из таблицы studentRegistration те сочетание семестра и предмета, где\n",
    "# есть хотя бы один студент с NaN в date_unregistration\n",
    "\n",
    "# Курсы и количество их закончивших студентов\n",
    "finished_courses = studentRegistration[studentRegistration['date_unregistration'].isna()]\\\n",
    "    .groupby(['code_module','code_presentation'], as_index = False)[['id_student']]\\\n",
    "    .agg(['count'])\\\n",
    "    .rename(columns = {'id_student':'finished'})\n",
    "\n",
    "print('Курсы и количество их закончивших студентов:\\n',finished_courses,'\\n')\n",
    "print('Количество курсов, которые кто-то закончил:',len(finished_courses),'\\n')\n",
    "# Число совпало с числом курсов из таблицы курсов\n",
    "\n",
    "# Давайте на всякий случай посмотрим, сколько баллов студенты набрали за каждый курс:\n",
    "\n",
    "# Возьмём таблицу с оценками студентов и приджоиними тим теста, его вес, семестр и предмет\n",
    "st_marks = studentAssessment.merge(assessments[['id_assessment','code_module','code_presentation','assessment_type','weight']], \n",
    "                        on = 'id_assessment', how = 'left')\n",
    "\n",
    "# Посмотрим сколько на всякий случай курсов, где были какие-то тесты\n",
    "print('Курсы, где есть хоть какие-то тесты:',len(st_marks.groupby(['code_module','code_presentation']).agg('count')), '\\n')\n",
    "\n",
    "# Уберём строки с элементом контроля с нулевым весом\n",
    "st_marks0 = st_marks\\\n",
    "    .query('weight > 0')\n",
    "# Посмотрим сколько таких курсов\n",
    "print('Курсов с итоговой оценкой:', len(st_marks0.groupby(['code_module','code_presentation']).agg('count')))\n",
    "# Расхождение\n",
    "\n",
    "# Посмотрим, кто выбивается\n",
    "print('Курсы без итоговой оценки', st_marks.groupby(['code_module','code_presentation'], as_index = False).agg('sum')\\\n",
    "      .query('weight == 0')[['code_module','code_presentation']], '\\n')\n",
    "# Угу, предмет G не оценивается...\n",
    "\n",
    "# Интересно/ Чтобы его не терять, не будет вычищать элементы оценивания меньше нуля\n",
    "\n",
    "# Ещё проверим, были ли какие формы контроля сданы сдудентом дважды\n",
    "# Группируем по студенту и тесту и считаем количество срок какого-нибудь поля без пропусков (перезачёт)\n",
    "# Выводим максимум\n",
    "print('Максимальное количество прохождения форм контроля одним студентом:',\n",
    "      st_marks.groupby(['id_assessment','id_student'], as_index = False)['is_banked'].agg('count').max()['is_banked'], '\\n')\n",
    "# Максимум 1, тесты не пересдавались\n",
    "\n",
    "# Посчитаем оценки студентов по экзаменам:\n",
    "st_marks_exam = st_marks.query('assessment_type == \"Exam\"')\\\n",
    "    .groupby(['id_student','code_module','code_presentation'], as_index = False)['score']\\\n",
    "    .agg('sum')\\\n",
    "    .rename(columns = {'score':'ex_score'})\n",
    "print('Оценки студентов по экзаменам:\\n', st_marks_exam, '\\n')\n",
    "\n",
    "# Посчитаем накопленную оценку\n",
    "# Прежде чем это сделать, договоримся вот о чём. \n",
    "# Накопленная = сумма (оценок за тесты на их веса)\n",
    "# Можно было иначе посчитать, как сумму весов сданных тестов (это было бы проще),\n",
    "# Но все мои примеры в жизни свидетельствуют о первом варианте\n",
    "\n",
    "# Оценка домноженная на вес\n",
    "st_marks['score_weigthed'] = st_marks.score*st_marks.weight/100\n",
    "# Оценка по накому\n",
    "st_marks_col = st_marks.query('assessment_type != \"Exam\"')\\\n",
    "    .groupby(['id_student','code_module','code_presentation'], as_index = False)['score_weigthed']\\\n",
    "    .agg('sum')\\\n",
    "    .rename(columns = {'score_weigthed':'col_score'})\n",
    "\n",
    "# Теперь сделаем столбец для итоговой оценки (максимальной из экзамена и накопа)\n",
    "# Соберём все оценки\n",
    "st_marks_all = st_marks_col\\\n",
    "    .merge(st_marks_exam, on = ['id_student','code_module','code_presentation'], how = 'outer')\n",
    "# Добавим итоговую оценку\n",
    "st_marks_all['res_score'] = st_marks_all[['col_score', 'ex_score']].max(axis = 1)\n",
    "\n",
    "# Сгруппируем по курсам и посмотрим максимальную итоговую оценку\n",
    "# Если для всех 22 курсов она > 40, то тогда каждый курс закончил по крайней мере 1 человек\n",
    "print('Максимальная оценка за курс (накоп/экзамен)\\n',st_marks_all\\\n",
    "      .groupby(['code_module','code_presentation'], as_index = False)['res_score'].max(),'\\n')\n",
    "\n",
    "# Ну, логично. Значит остаётся решить, является ли неоцениваемый курс курсом...\n",
    "# Ну, как-будто да... Решающее в курсе всё-таки обучение"
   ]
  },
  {
   "cell_type": "markdown",
   "metadata": {},
   "source": [
    "### Ответ:\n",
    "#### Курс - это уникальное сочетание предмета и семестра, которое есть в таблице courses и удовлетворяет условие, что есть хотя-бы один студент с этого курса не отчислился\n",
    "Этому утверждению удовлетворяют все курсы в таблице courses, но важно учесть, чтобы решение было более в общем случае\n",
    "Можно было бы его снять, однако я подумал, что для наших случаев для аналитики были бы более релевантны курс состоявшиеся\n",
    "Другие можно рассмотреть отдельно,если бы они были\n",
    "\n",
    "### Интересные наблюдения полученные в процессе поиска ответа:\n",
    "- Есть курсы, где нет итоговой оценки (предмет GGG)\n",
    "- Формы контроля не пересдавались\n",
    "\n",
    "### Созданные переменные\n",
    "- ex_deadline (df) - курсы и количество экзаменов на них (всего/с дедлайнами)\n",
    "- exes (list) - список экзаменов\n",
    "- ex_subm (df) - экзамены и количество сдавших эту работу\n",
    "- finished_courses (df) - курсы и количество студентов, которые их закончили\n",
    "- st_marks (df) - оценки, студенты, тип теста, семестр, предмет, веса, взвешенные оценки\n",
    "- st_marks0 (df) - st_marks только с формами контроля с весом больше 0\n",
    "- st_marks_exam (df) - оценки студентов по экзаменам\n",
    "- st_marks_col (df) - оценки студентов по накопу\n",
    "- st_marks_all (df) - оценки студентов по экзамену, накопу и итог (макс из предыдущих)"
   ]
  },
  {
   "cell_type": "markdown",
   "metadata": {},
   "source": [
    "## Сколько студентов успешно сдали только один курс?\n",
    "(Успешная сдача — это зачёт по курсу на экзамене)\n",
    "\n",
    "### Решение"
   ]
  },
  {
   "cell_type": "code",
   "execution_count": 12,
   "metadata": {},
   "outputs": [
    {
     "name": "stdout",
     "output_type": "stream",
     "text": [
      "Количество студентов, кто сдал один курс: 3802 \n",
      "\n"
     ]
    }
   ],
   "source": [
    "# Возьмём табличку с итоговыми оценками из прошлого вопроса и выберем те строки, \n",
    "# где оценка по экзамену > 40\n",
    "st_passed_ex = st_marks_all.query('ex_score >= 40')\n",
    "\n",
    "# Из предыдущего обзора мы знаем, что в курсе состоится только один экзамен\n",
    "# Лишние из таблички с курсами не состоялись\n",
    "# Так что просто сгруппируем по студенту и посчитаем количество строк\n",
    "\n",
    "ex_passed_per_us = st_passed_ex\\\n",
    "    .groupby('id_student', as_index = False)['ex_score']\\\n",
    "    .agg('count')\\\n",
    "    .rename(columns = {'ex_score':'courses_passed'})\n",
    "print('Количество студентов, кто сдал один курс:',\n",
    "      len(ex_passed_per_us.query('courses_passed == 1')),'\\n')"
   ]
  },
  {
   "cell_type": "markdown",
   "metadata": {},
   "source": [
    "### Ответ:\n",
    "\n",
    "3802\n",
    "\n",
    "### Интересные наблюдения полученные в процессе поиска ответа:\n",
    "\n",
    "Никто не сдал более двух экзаменов\n",
    "\n",
    "### Созданные переменные\n",
    "- st_passed_ex (df) - студенты и сданные экзамены\n",
    "- st_passed_ex_per_us (df) - студенты и количество сданных экзаменов"
   ]
  },
  {
   "cell_type": "markdown",
   "metadata": {},
   "source": [
    "## Выявить самый сложный и самый простой экзамен: найти курсы и экзамены в рамках курса, которые обладают самой низкой и самой высокой завершаемостью. (10 баллов)\n",
    "**завершаемость** = кол-во успешных экзаменов / кол-во всех попыток сдать экзамен\n",
    "\n",
    "### Решение"
   ]
  },
  {
   "cell_type": "code",
   "execution_count": 38,
   "metadata": {},
   "outputs": [
    {
     "name": "stdout",
     "output_type": "stream",
     "text": [
      "Самый сложный + экзамен:\n",
      "   code_module code_presentation  id_assessment   passage\n",
      "4         DDD             2013B          25340  0.837209 \n",
      "\n",
      "Самый простой курс + экзамен:\n",
      "   code_module code_presentation  id_assessment   passage\n",
      "6         DDD             2014B          25361  0.925573 \n",
      "\n"
     ]
    }
   ],
   "source": [
    "# Возьмём табличку из нулевого вопроса и выберем строки, где была попытка сдать экзамен\n",
    "st_tried_to_pass_ex = st_marks_all[st_marks_all['ex_score'].notnull()]\n",
    "\n",
    "# Сделаем флаг для сдачи экза\n",
    "st_tried_to_pass_ex = st_tried_to_pass_ex.assign(pas = st_tried_to_pass_ex.ex_score >= 40)\n",
    "\n",
    "# Посчитаем отдельно и приджоиним\n",
    "\n",
    "# Попыток\n",
    "tot = st_tried_to_pass_ex\\\n",
    "    .groupby(['code_module','code_presentation'], as_index = False)['pas']\\\n",
    "    .agg('count')\\\n",
    "    .rename(columns = {'pas':'tot'})\n",
    "# Попыток успешных\n",
    "pas = st_tried_to_pass_ex\\\n",
    "    .query('pas == True')\\\n",
    "    .groupby(['code_module','code_presentation'], as_index = False)['pas']\\\n",
    "    .agg('count')\n",
    "st_tried_to_pass_ex = tot.merge(pas, on = ['code_module','code_presentation'])\n",
    "\n",
    "st_tried_to_pass_ex['passage'] = st_tried_to_pass_ex.pas/st_tried_to_pass_ex.tot\n",
    "\n",
    "st_tried_to_pass_ex = st_tried_to_pass_ex\\\n",
    "    .merge(assessments.query('id_assessment in @exes'),\n",
    "           on = ['code_module','code_presentation'], how = 'left')\n",
    "st_tried_to_pass_ex = st_tried_to_pass_ex[['code_module','code_presentation','id_assessment','passage']]\n",
    "\n",
    "# Самый сложный: \n",
    "print('Самый сложный + экзамен:\\n', \n",
    "      st_tried_to_pass_ex[st_tried_to_pass_ex['passage'] == st_tried_to_pass_ex['passage'].min()],\n",
    "                         '\\n')\n",
    "\n",
    "# Самый простой:\n",
    "print('Самый простой курс + экзамен:\\n',\n",
    "      st_tried_to_pass_ex[st_tried_to_pass_ex['passage'] == st_tried_to_pass_ex['passage'].max()],\n",
    "                         '\\n')"
   ]
  },
  {
   "cell_type": "markdown",
   "metadata": {},
   "source": [
    "### Ответ:\n",
    "\n",
    "Самый простой - курс семестра 2013B по предмету DDD (id экзамена 25340)\n",
    "\n",
    "Самый сложный - курс семестра 2014B по предмету DDD (id экзамена 25361)\n",
    "\n",
    "### Интересные наблюдения полученные в процессе поиска ответа:\n",
    "\n",
    "- И самый простой, и самый сложный курсы по одному и тому-же предмету\n",
    "- Даже у самого сложного курса процент закрытия > 83%\n",
    "- Разница завершаемости между самым сложным и самым простым где-то 9%\n",
    "\n",
    "### Созданные переменные\n",
    "- tot (df) - попыток сдать каждый экзамен\n",
    "- pas (df) - успеншных попыток сдать экзамен\n",
    "- st_tried_to_pass_ex (df) - курс и процент сдачи"
   ]
  },
  {
   "cell_type": "markdown",
   "metadata": {},
   "source": [
    "## По каждому предмету определить средний срок сдачи экзаменов (под сдачей понимаем последнее успешное прохождение экзамена студентом)"
   ]
  },
  {
   "cell_type": "code",
   "execution_count": 14,
   "metadata": {
    "scrolled": true
   },
   "outputs": [
    {
     "name": "stdout",
     "output_type": "stream",
     "text": [
      "Среднее время сдачи экзамена на курсе:\n",
      "   code_module code_presentation  avg_date_submitted\n",
      "0         CCC             2014B               231.6\n",
      "1         CCC             2014J               244.4\n",
      "2         DDD             2013B               230.2\n",
      "3         DDD             2013J               239.5\n",
      "4         DDD             2014B               234.9\n",
      "5         DDD             2014J               242.8 \n",
      "\n",
      "Среднее время сдачи экзамена на курсе:\n",
      "   code_module  avg_date_submitted\n",
      "0         CCC               239.3\n",
      "1         DDD               238.0 \n",
      "\n"
     ]
    }
   ],
   "source": [
    "# Вопрос про предмет, ранее мы работали с курсами. Подразумевается ли\n",
    "# тождество этих конструктов? По моему опредлению курса - нет, однако \n",
    "# составители курса вопрос составили ранеше... Может и подразумевается...\n",
    "# Сделаю оба варианта\n",
    "\n",
    "# Возьмём информацию о сдаче форм контроля\n",
    "# Добавим информацию о предмете, семестре, типе экзамена\n",
    "# Отфильтруем инфу по сданным экзамен\n",
    "# Сбросим индексы\n",
    "# Оставим предмет, семестрф, id пользователя и дату сдачи\n",
    "# Посчитаем максимальное время сдачи для каждого пользователя в каждый курс\n",
    "# Вообще выше мы видели, что формы контроля не пересдавались\n",
    "# И что в каждый курс был только один экзамен, но лучше сделать более общее решение\n",
    "\n",
    "ex_pas_dt = studentAssessment.merge(assessments, on = 'id_assessment', how='left')\\\n",
    "    .query('assessment_type == \"Exam\" & score >= 40')\\\n",
    "    .reset_index()\\\n",
    "    [['code_module','code_presentation','id_student','date_submitted']]\\\n",
    "    .groupby(['code_module','code_presentation','id_student'], as_index = False)\\\n",
    "    .agg('max')\n",
    "\n",
    "# Посмотрим для курсов\n",
    "ex_pas_dt_per_course = ex_pas_dt.groupby(['code_module','code_presentation'], as_index = False)['date_submitted']\\\n",
    "    .agg('mean')\\\n",
    "    .rename(columns = {'date_submitted':'avg_date_submitted'})                \n",
    "ex_pas_dt_per_course.avg_date_submitted = ex_pas_dt_per_course.avg_date_submitted.round(1)\n",
    "\n",
    "print('Среднее время сдачи экзамена на курсе:\\n',ex_pas_dt_per_course,'\\n')\n",
    "\n",
    "# Посмотрим для предметов\n",
    "\n",
    "ex_pas_dt_per_subj = ex_pas_dt.groupby(['code_module'], as_index = False)['date_submitted']\\\n",
    "    .agg('mean')\\\n",
    "    .rename(columns = {'date_submitted':'avg_date_submitted'})                \n",
    "ex_pas_dt_per_subj.avg_date_submitted = ex_pas_dt_per_subj.avg_date_submitted.round(1)\n",
    "\n",
    "print('Среднее время сдачи экзамена на курсе:\\n',ex_pas_dt_per_subj,'\\n')\n"
   ]
  },
  {
   "cell_type": "markdown",
   "metadata": {},
   "source": [
    "### Ответ:\n",
    "\n",
    "**Среднее время сдачи предмета CCC 239.3 дня**\n",
    "- 2014B - 231.6; \n",
    "- 2014J - 244.4\n",
    "\n",
    "**Среднее время сдачи предмета DDD 238.0 дня**\n",
    "- 2013B - 230.2; \n",
    "- 2013J - 239.5; \n",
    "- 2014B - 234.9; \n",
    "- 2014J - 242.8\n",
    "\n",
    "### Интересные наблюдения полученные в процессе поиска ответа:\n",
    "\n",
    "### Созданные переменные\n",
    "- ex_pas_dt (df) - дата сдачи экзаменов по курсам, для каждого модуля\n",
    "- ex_pas_dt_per_course (df) - среднее время сдачи экзамена по курсу\n",
    "- ex_pas_dt_per_subj (df) - среднее время сдачи экзамена по предмету"
   ]
  },
  {
   "cell_type": "markdown",
   "metadata": {},
   "source": [
    "## Выявить самые популярные предметы (ТОП-3) по количеству регистраций на них. \n",
    "## А также предметы с самым большим оттоком (ТОП-3)\n",
    "\n",
    "**отток** = отписалось/записалось*100%\n",
    "(так учтём отличия в кол-во записавшихся)\n",
    "\n",
    "### Решение"
   ]
  },
  {
   "cell_type": "code",
   "execution_count": 15,
   "metadata": {},
   "outputs": [
    {
     "name": "stdout",
     "output_type": "stream",
     "text": [
      "Топ-3 предметов по записям:\n",
      "   code_module  date_registration  date_unregistration  lost\n",
      "0         BBB               7900                 2377  30.0\n",
      "1         FFF               7751                 2380  31.0\n",
      "2         DDD               6257                 2235  36.0 \n",
      "\n",
      "Топ-3 предметов по оттоку:\n",
      "   code_module  date_registration  date_unregistration  lost\n",
      "0         CCC               4426                 1947  44.0\n",
      "1         DDD               6257                 2235  36.0\n",
      "2         FFF               7751                 2380  31.0 \n",
      "\n",
      "Топ-3 курсов по записям:\n",
      "   code_module code_presentation  date_registration  date_unregistration  lost\n",
      "0         CCC             2014J               2495                 1049  42.0\n",
      "1         FFF             2014J               2363                  831  35.0\n",
      "2         BBB             2014J               2291                  736  32.0 \n",
      "\n",
      "Топ-3 курсов по оттоку:\n",
      "   code_module code_presentation  date_registration  date_unregistration  lost\n",
      "0         CCC             2014B               1931                  898  47.0\n",
      "1         CCC             2014J               2495                 1049  42.0\n",
      "2         DDD             2014B               1225                  489  40.0 \n",
      "\n"
     ]
    }
   ],
   "source": [
    "# Аналогично прошло вопросу здесь актуальа диллема курс/предмет\n",
    "# Тоже посчитаю для обоих\n",
    "\n",
    "# Для предметов уже подсчитано ранее, только добавим отток\n",
    "reg_count_module['lost'] = (reg_count_module.date_unregistration*100/reg_count_module.date_registration).round(0)\n",
    "# Топ-3 по подпискам\n",
    "print('Топ-3 предметов по записям:\\n',reg_count_module.sort_values('date_registration', ascending = False)\\\n",
    "      .reset_index(drop = True).head(3),'\\n')\n",
    "# Топ-3 по оттоку\n",
    "print('Топ-3 предметов по оттоку:\\n',reg_count_module.sort_values('lost', ascending = False).reset_index(drop = True)\\\n",
    "      .head(3),'\\n')\n",
    "\n",
    "# Для курсов сделаем и добавим отток\n",
    "reg_count_module_pres = studentRegistration\\\n",
    "    .groupby(['code_module','code_presentation'], as_index = False)[['date_registration', 'date_unregistration']]\\\n",
    "    .agg({'date_registration':'count','date_unregistration':'count'})\n",
    "\n",
    "reg_count_module_pres['lost'] = (reg_count_module_pres.date_unregistration*100/reg_count_module_pres.date_registration)\\\n",
    "    .round(0)\n",
    "# Топ-3 по подпискам\n",
    "print('Топ-3 курсов по записям:\\n',reg_count_module_pres.sort_values('date_registration', ascending = False)\\\n",
    "      .reset_index(drop = True).head(3),'\\n')\n",
    "# Топ-3 по оттоку\n",
    "print('Топ-3 курсов по оттоку:\\n',reg_count_module_pres.sort_values('lost', ascending = False)\\\n",
    "      .reset_index(drop = True).head(3),'\\n')"
   ]
  },
  {
   "cell_type": "markdown",
   "metadata": {},
   "source": [
    "### Ответ:\n",
    "\n",
    "**Топ-3 предметом по записи:**\n",
    "- BBB\n",
    "- FFF\n",
    "- DDD\n",
    "\n",
    "**Топ-3 предметом по оттоку:**\n",
    "- CCC\n",
    "- DDD\n",
    "- FFF\n",
    "\n",
    "Топ-3 курсов по записи:\n",
    "- CCC 2014J\n",
    "- FFF 2014J\n",
    "- BBB 2014J\n",
    "\n",
    "Топ-3 курсов по оттоку:\n",
    "- CCC 2014B\n",
    "- CCC 2014J\n",
    "- DDD 2014B\n",
    "\n",
    "### Интересные наблюдения полученные в процессе поиска ответа:\n",
    "\n",
    "### Созданные переменные\n",
    "- reg_count_module (df) - обновил, добавив отток\n",
    "- reg_count_module_pres (df) - аналог прошлой только с курсами"
   ]
  },
  {
   "cell_type": "markdown",
   "metadata": {},
   "source": [
    "## Выявить семестр с самой низкой завершаемостью курсов и самыми долгими средними сроками сдачи курсов.\n",
    "\n",
    "### Решение"
   ]
  },
  {
   "cell_type": "code",
   "execution_count": 39,
   "metadata": {},
   "outputs": [
    {
     "name": "stdout",
     "output_type": "stream",
     "text": [
      "Семестр с самыми низким показателем сдачи:\n",
      "   code_presentation   passage\n",
      "0             2013B  0.837209 \n",
      "\n",
      "Семестр с самыми долгими средними сроками сдачи:\n",
      "   code_presentation  avg_date_submitted\n",
      "3             2014J               243.7 \n",
      "\n"
     ]
    }
   ],
   "source": [
    "# Семестр с самой низкой завершаемостью\n",
    "st_tried_to_pass_ex_sem = tot.merge(pas, on = ['code_module','code_presentation'])\n",
    "\n",
    "st_tried_to_pass_ex_sem = st_tried_to_pass_ex_sem.groupby('code_presentation', as_index = False)[['tot','pas']].agg(sum)\n",
    "\n",
    "st_tried_to_pass_ex_sem['passage'] = st_tried_to_pass_ex_sem.pas/st_tried_to_pass_ex_sem.tot\n",
    "\n",
    "st_tried_to_pass_ex_sem = st_tried_to_pass_ex_sem[['code_presentation','passage']]\n",
    "\n",
    "print('Семестр с самой низкой завершаемостью:\\n',st_tried_to_pass_ex_sem.sort_values(by = ['passage']).head(1),'\\n')\n",
    "\n",
    "# Семестр с самыми долгими средними сроками сдачи\n",
    "ex_pas_dt_per_sem = ex_pas_dt.groupby(['code_presentation'], as_index = False)['date_submitted']\\\n",
    "    .agg('mean')\\\n",
    "    .rename(columns = {'date_submitted':'avg_date_submitted'})                \n",
    "ex_pas_dt_per_sem.avg_date_submitted = ex_pas_dt_per_sem.avg_date_submitted.round(1)\n",
    "\n",
    "print('Семестр с самыми долгими средними сроками сдачи:\\n',ex_pas_dt_per_sem.sort_values(by = ['avg_date_submitted']).tail(1),\n",
    "      '\\n')"
   ]
  },
  {
   "cell_type": "markdown",
   "metadata": {},
   "source": [
    "### Ответ:\n",
    "Семестр с самой низкой завершаемостью: 2013B (84%)\n",
    "\n",
    "Семестр с самыми долгими средними сроками сдачи: 2014J (244 дня)\n",
    "\n",
    "### Интересные наблюдения полученные в процессе поиска ответа:\n",
    "\n",
    "### Созданные переменные\n",
    "- st_tried_to_pass_ex_sem (df) -  семестр и процент сдачи\n",
    "- ex_pas_dt_per_sems (df) - семестр и среднее время сдачи"
   ]
  },
  {
   "cell_type": "markdown",
   "metadata": {},
   "source": [
    "## Построить (и подробно описать процесс) адаптированные RFM-кластеры студентов, чтобы качественно оценить свою аудиторию. \n",
    "## Для каждого RFM-сегмента построить границы метрик recency, frequency и monetary для интерпретации этих кластеров.\n",
    "В адаптированной кластеризации предложено выбрать следующие метрики: \n",
    "- R - среднее время сдачи одного экзамена, \n",
    "- F - завершаемость курсов, \n",
    "- M - среднее количество баллов, получаемое за экзамен. \n",
    "\n",
    "Подробно описать, как я создавал кластеры.\n",
    "\n",
    "### Решение\n",
    "#### Выберем метрики"
   ]
  },
  {
   "cell_type": "code",
   "execution_count": 146,
   "metadata": {
    "scrolled": false
   },
   "outputs": [
    {
     "name": "stdout",
     "output_type": "stream",
     "text": [
      "Построим распредление накопа и оценок за экзамен:\n",
      "\n"
     ]
    },
    {
     "data": {
      "image/png": "[encoded data removed]",
      "text/plain": [
       "<Figure size 802.125x720 with 1 Axes>"
      ]
     },
     "metadata": {
      "needs_background": "light"
     },
     "output_type": "display_data"
    },
    {
     "name": "stdout",
     "output_type": "stream",
     "text": [
      "\n",
      "\n",
      "Построим распредление накопа и оценок за экзамен без предмета GGG:\n",
      "\n"
     ]
    },
    {
     "data": {
      "image/png": "[encoded data removed]",
      "text/plain": [
       "<Figure size 802.125x720 with 1 Axes>"
      ]
     },
     "metadata": {
      "needs_background": "light"
     },
     "output_type": "display_data"
    },
    {
     "name": "stdout",
     "output_type": "stream",
     "text": [
      "\n",
      "\n",
      "Если учитывать только экзамен, то мы теряем 60.4% данных\n",
      "Распределение средних оценок без предмета GGG:\n",
      "\n"
     ]
    },
    {
     "data": {
      "image/png": "[encoded data removed]",
      "text/plain": [
       "<Figure size 720x720 with 1 Axes>"
      ]
     },
     "metadata": {
      "needs_background": "light"
     },
     "output_type": "display_data"
    },
    {
     "name": "stdout",
     "output_type": "stream",
     "text": [
      "\n",
      "\n"
     ]
    }
   ],
   "source": [
    "# В данном задании я отойду от предложенных метрик, так как акцент на экзамене опускает львиную долю курсов и студентов\n",
    "# Я предлагаю учитывать другие элементы контроля, так называемый накоп. Посмотрим, сколько данных мы опускаем\n",
    "st_marks_all_long = st_marks_all[['id_student', 'code_module', 'code_presentation','col_score','ex_score']]\\\n",
    "    .melt(id_vars = ['id_student', 'code_module', 'code_presentation'])\n",
    "print('Построим распредление накопа и оценок за экзамен:\\n')\n",
    "sns.displot(data = st_marks_all_long, x = 'value', hue = 'variable', height = 10)\n",
    "plt.show()\n",
    "print('\\n')\n",
    "# Есть пик с нулём за накоп, есть объяснение\n",
    "# Мы выше (в нулевом вопросе) видели, что есть предмет, по которому нет форм контроля с весом больше 0, предмет GGG\n",
    "# Давайте его опустим. Его следует рассматривать отдельно\n",
    "print('Построим распредление накопа и оценок за экзамен без предмета GGG:\\n')\n",
    "st_marks_all_long_filter = st_marks_all_long.query('code_module != \"GGG\"')\n",
    "sns.displot(data = st_marks_all_long_filter, x = 'value', hue = 'variable', height = 10)\n",
    "plt.show()\n",
    "print('\\n')\n",
    "\n",
    "# Посмотрим, какой процент данных мы терям, если учитываем только экзамены:\n",
    "print('Если учитывать только экзамен, то мы теряем {}% данных'\\\n",
    "      .format(\n",
    "            round(\n",
    "            st_marks_all_long_filter[st_marks_all_long_filter.value.notnull()].shape[0]/st_marks_all_long_filter.shape[0]*100,1\n",
    "                )\n",
    "            )\n",
    "    )\n",
    "# Поэтому я принимаю итоговой решение учесть обе оценки\n",
    "# Но как? В описании данных было, что экзамен учитывается отдельно с весом 100%, то есть обе оценки весят 100%\n",
    "# Поэтому я решаю ввести метрику итоговой оценки, которая представляет собой среднее от двух этих оценок\n",
    "# Давайте посчитаем и посмотрим распределение\n",
    "st_marks_all['mean_score'] = st_marks_all[['col_score', 'ex_score']].mean(axis=1)\n",
    "\n",
    "# Обновим long формат\n",
    "\n",
    "st_marks_all_long = st_marks_all[['id_student', 'code_module', 'code_presentation','col_score','ex_score','mean_score']]\\\n",
    "    .melt(id_vars = ['id_student', 'code_module', 'code_presentation'])\n",
    "st_marks_all_long_filter = st_marks_all_long.query('code_module != \"GGG\"')\n",
    "# График\n",
    "print('Распределение средних оценок без предмета GGG:\\n')\n",
    "sns.displot(data = st_marks_all_long_filter.query('variable == \"mean_score\"'), x = 'value', height = 10)\n",
    "plt.show()\n",
    "print('\\n')\n",
    "# Видно сильно влияние распределения накопленных оценок\n",
    "\n",
    "# Нам надо тремя метриками описать клиентов. Одна из метрик должна быть для нас. Что-то про выгоду, манетизацию\n",
    "\n",
    "# Скорпее всего мы бы получали деньги за оплату курсов, больше курсов - лучше. Было бы хорошо ещё учесть долю курса,\n",
    "# которую клиент прошёл до отписки (если отписался). Но для доли нам нужна длительность курса, её у нас нет, что довольно грустно\n",
    "# Я предлагаю такую операцианализацию: \n",
    "# за длительность курса взять время последней сдачи какой-либо формы контроля каким-либо студентом\n",
    "# Тем, кто записался на курс и не отписался мы присвоим 100\n",
    "# Тем, кто отписался после начала курса мы присвоим дата_отписки/длительность_курса*100\n",
    "# Тем, кто отписался до начала присвоим 0\n",
    "# Потом мы суммируем для каждого студента эти баллы, это будет эквивалентом, сколько денег нам мог бы принести клиент\n",
    "# Суммация без весов (у нас нет оснований для этого)\n",
    "\n",
    "# Двумя другими метриками нам надо характеризовать клиента, как покупателя и как ученика\n",
    "# За F в кластеризации я возьму среднюю среднюю оценку для каждого студента, как какую-то меру успеваемости\n",
    "# F - как-бы про частоту. Но из-за специфики продукта (очень длинный цикл потребления продутка и не так много запусков)\n",
    "# Не думаю, что это релевантно. Брать долю завершаемости как-будто тоже не очень интересно, она косвено отражается в оценке\n",
    "\n",
    "# Ещё было бы интересно как-то подвязать скорость сдачи студентом курсов, но есть опасность сделать слишком сложну метрику\n",
    "# Это приведёт к смешению\n",
    "\n",
    "# Прошлая метрика это про ученика. Теперь про клиента\n",
    "# В качестве R - \"недавность\" я возьму средний срок записи на курс (насколько заранее клиент покупает продукт)\n",
    "\n",
    "# Мог бы быть риск низкой связи первой метрики и второй. Вдруг клиент отписывался, ничего не сдавал\n",
    "# Но при исследовании данных мы увидели, что более 20к студентов проходили хоть какую-то форму контроля\n",
    "# А записывалось менее 30к уникальныъ студентов. Неплохое пересечение. Остальную часть попробуем зацепить третьей метрикой"
   ]
  },
  {
   "cell_type": "markdown",
   "metadata": {},
   "source": [
    "#### Оформление метрик"
   ]
  },
  {
   "cell_type": "code",
   "execution_count": 169,
   "metadata": {
    "scrolled": false
   },
   "outputs": [
    {
     "name": "stdout",
     "output_type": "stream",
     "text": [
      "Студенты и средние оценки размер:\n",
      " (21312, 2) \n",
      "\n",
      "Первый вариант прокси-метрики для длительности:\n",
      "    code_module code_presentation  length\n",
      "0          AAA             2013J     239\n",
      "1          AAA             2014J     237\n",
      "2          BBB             2013B     222\n",
      "3          BBB             2013J     238\n",
      "4          BBB             2014B     229\n",
      "5          BBB             2014J     270\n",
      "6          CCC             2014B     266\n",
      "7          CCC             2014J     285\n",
      "8          DDD             2013B     248\n",
      "9          DDD             2013J     255\n",
      "10         DDD             2014B     251\n",
      "11         DDD             2014J     279\n",
      "12         EEE             2013J     235\n",
      "13         EEE             2014B     180\n",
      "14         EEE             2014J     274\n",
      "15         FFF             2013B     594\n",
      "16         FFF             2013J     608\n",
      "17         FFF             2014B     591\n",
      "18         FFF             2014J     325 \n",
      "\n",
      "Второй вариант прокси-метрики для длительности:\n",
      "    code_module code_presentation   length\n",
      "0          AAA             2013J  221.840\n",
      "1          AAA             2014J  223.635\n",
      "2          BBB             2013B  191.000\n",
      "3          BBB             2013J  211.000\n",
      "4          BBB             2014B  200.000\n",
      "5          BBB             2014J  213.000\n",
      "6          CCC             2014B  236.000\n",
      "7          CCC             2014J  248.000\n",
      "8          DDD             2013B  231.000\n",
      "9          DDD             2013J  242.000\n",
      "10         DDD             2014B  236.000\n",
      "11         DDD             2014J  244.000\n",
      "12         EEE             2013J  172.000\n",
      "13         EEE             2014B  166.000\n",
      "14         EEE             2014J  180.055\n",
      "15         FFF             2013B  224.000\n",
      "16         FFF             2013J  238.000\n",
      "17         FFF             2014B  229.000\n",
      "18         FFF             2014J  243.000 \n",
      "\n",
      "Размер фрейма с R метрикой: (26317, 2) \n",
      "\n",
      "Размер фрейма с F метрикой: (21312, 2) \n",
      "\n",
      "Размер фрейма с M метрикой: (26317, 2) \n",
      "\n",
      "Посмотрим пропуски в RFM:\n",
      " id_student       0\n",
      "R               30\n",
      "F             5005\n",
      "M                0\n",
      "dtype: int64 \n",
      "\n",
      "Посмотрим пропуски в RFM снова:\n",
      " id_student    0\n",
      "R             0\n",
      "F             0\n",
      "M             0\n",
      "dtype: int64 \n",
      "\n",
      "Распределение R:\n",
      "\n"
     ]
    },
    {
     "data": {
      "image/png": "[encoded data removed]",
      "text/plain": [
       "<Figure size 720x720 with 1 Axes>"
      ]
     },
     "metadata": {
      "needs_background": "light"
     },
     "output_type": "display_data"
    },
    {
     "name": "stdout",
     "output_type": "stream",
     "text": [
      "\n",
      "\n",
      "Распределение F:\n",
      "\n"
     ]
    },
    {
     "data": {
      "image/png": "[encoded data removed]",
      "text/plain": [
       "<Figure size 720x720 with 1 Axes>"
      ]
     },
     "metadata": {
      "needs_background": "light"
     },
     "output_type": "display_data"
    },
    {
     "name": "stdout",
     "output_type": "stream",
     "text": [
      "\n",
      "\n",
      "Распределение M:\n",
      "\n"
     ]
    },
    {
     "data": {
      "image/png": "[encoded data removed]",
      "text/plain": [
       "<Figure size 720x720 with 1 Axes>"
      ]
     },
     "metadata": {
      "needs_background": "light"
     },
     "output_type": "display_data"
    },
    {
     "name": "stdout",
     "output_type": "stream",
     "text": [
      "\n",
      "\n"
     ]
    }
   ],
   "source": [
    "# R\n",
    "R = studentRegistration[['code_module','code_presentation','id_student','date_registration']]\\\n",
    "    .query('code_module != \"GGG\"')\\\n",
    "    .groupby(['id_student'], as_index = False)\\\n",
    "    .agg('mean')\\\n",
    "    .rename(columns = {'date_registration':'R'})\n",
    "\n",
    "# F\n",
    "F = st_marks_all.query('code_module != \"GGG\"')[['id_student', 'mean_score']]\\\n",
    "    .groupby('id_student', as_index = False)\\\n",
    "    .agg('mean')\\\n",
    "    .rename(columns = {'mean_score':'F'})\n",
    "print('Студенты и средние оценки размер:\\n',F.shape,'\\n')\n",
    "# Тут мы видим, что студентов слегка меньше чем тех, кто сдавал хоть какую-то форму контроля, \n",
    "# потому что исключили формы с весом 0\n",
    "\n",
    "# M \n",
    "# Сначала давайте длительность курсов посмотрим\n",
    "# Выкинем тех, кто перезачёл\n",
    "course_length = studentAssessment.merge(assessments, on = 'id_assessment', how='left')\\\n",
    "    .query('is_banked == 0 & code_module != \"GGG\"')\\\n",
    "    .reset_index()\\\n",
    "    [['code_module','code_presentation','date_submitted']]\\\n",
    "    .groupby(['code_module','code_presentation'], as_index = False)\\\n",
    "    .agg('max')\\\n",
    "    .rename(columns = {'date_submitted':'length'})\n",
    "print('Первый вариант прокси-метрики для длительности:\\n',course_length,'\\n')\n",
    "# Хм что есть выбивающиеся значения. Давайте попробуем не максимум, а 99.5 перцентиль\n",
    "course_length = studentAssessment.merge(assessments, on = 'id_assessment', how='left')\\\n",
    "    .query('is_banked == 0 & code_module != \"GGG\"')\\\n",
    "    .reset_index()\\\n",
    "    [['code_module','code_presentation','date_submitted']]\\\n",
    "    .groupby(['code_module','code_presentation'], as_index = False)\\\n",
    "    .agg(lambda x: np.percentile(x, 99.5))\\\n",
    "    .rename(columns = {'date_submitted':'length'})\n",
    "print('Второй вариант прокси-метрики для длительности:\\n',course_length,'\\n')\n",
    "# Больше подходит для прокси-метрки\n",
    "# Приклеем к записям\n",
    "unreg_length = studentRegistration\\\n",
    "    .query('code_module != \"GGG\"')\\\n",
    "    .merge(course_length, on = ['code_module', 'code_presentation'], how = 'left')\\\n",
    "    .drop('date_registration', axis = 1)\n",
    "# Для тех, кто не отписался запишем как отписку длину курса\n",
    "unreg_length.date_unregistration = unreg_length.date_unregistration.fillna(unreg_length.length)/unreg_length.length*100\n",
    "unreg_length = unreg_length.rename(columns = {'date_unregistration':'dur'})\n",
    "# Заменим орицательные dur на нули\n",
    "unreg_length.dur = unreg_length.dur.mask(unreg_length.dur < 0,0)\n",
    "# Посчитаем M\n",
    "M = unreg_length.groupby('id_student', as_index = False)['dur'].agg('sum').rename(columns = {'dur':'M'})\n",
    "\n",
    "# Давайте соберём метрики в один датафрейм\n",
    "# Сначала посмотрим на их размеры\n",
    "print('Размер фрейма с R метрикой:',R.shape,'\\n')\n",
    "print('Размер фрейма с F метрикой:',F.shape,'\\n')\n",
    "print('Размер фрейма с M метрикой:',M.shape,'\\n')\n",
    "# Всё ожидаемо. Размеры R и M совпали, F меньше (все, кто записывался)\n",
    "# Склеим c ориентировкой на R\n",
    "RFM = R.merge(F, on = 'id_student', how = 'left').merge(M, on = 'id_student', how = 'left')\n",
    "\n",
    "# Посмотрим пропуски\n",
    "print('Посмотрим пропуски в RFM:\\n',RFM.isna().sum(),'\\n')\n",
    "# Пропуски в F ожидаемы, а вот в R наталкивают на мысли. Скорее всего это связано с тем, что \n",
    "# (как мы выяснили в исследовании данных) - есть студенты, которые не записывались, но отписались\n",
    "# скорее всего это баг, исследовать в данных условиях который мы не можем\n",
    "# Поэтому опустим эти строки\n",
    "# А пропуски в F заменим нулями\n",
    "RFM = RFM[RFM.R.notnull()].fillna(0)\n",
    "print('Посмотрим пропуски в RFM снова:\\n',RFM.isna().sum(),'\\n')\n",
    "\n",
    "# Давайте посмотрим распределения метрик\n",
    "\n",
    "print('Распределение R:\\n')\n",
    "sns.displot(data = RFM, x = 'R', height = 10)\n",
    "plt.show()\n",
    "print('\\n')\n",
    "\n",
    "print('Распределение F:\\n')\n",
    "sns.displot(data = RFM, x = 'F', height = 10)\n",
    "plt.show()\n",
    "print('\\n')\n",
    "\n",
    "print('Распределение M:\\n')\n",
    "sns.displot(data = RFM, x = 'M', height = 10, log_scale = [False,True])\n",
    "plt.show()\n",
    "print('\\n')"
   ]
  },
  {
   "cell_type": "markdown",
   "metadata": {},
   "source": [
    "#### Кластеризация"
   ]
  },
  {
   "cell_type": "code",
   "execution_count": 188,
   "metadata": {},
   "outputs": [
    {
     "name": "stdout",
     "output_type": "stream",
     "text": [
      "{'R': {0.2: -113.0, 0.4: -74.0, 0.6: -46.0, 0.8: -28.0}, 'F': {0.2: 0.4, 0.4: 31.40700000000001, 0.6: 60.53899999999999, 0.8: 77.5}, 'M': {0.2: 42.436974789915965, 0.4: 100.0, 0.6: 100.0, 0.8: 100.0}}\n"
     ]
    },
    {
     "data": {
      "text/plain": [
       "3    5361\n",
       "4    5316\n",
       "1    5297\n",
       "2    5234\n",
       "5    5079\n",
       "Name: R_score, dtype: int64"
      ]
     },
     "execution_count": 188,
     "metadata": {},
     "output_type": "execute_result"
    }
   ],
   "source": [
    "# Определим процентили\n",
    "quintiles = RFM[['R', 'F', 'M']].quantile([.2, .4, .6, .8]).to_dict()\n",
    "# Займёмся присвоением рангов. Для R и M больше значит лучше, F - наоборот\n",
    "# Зададим функции\n",
    "def f_score(x):\n",
    "    if x <= quintiles['F'][.2]:\n",
    "        return 5\n",
    "    elif x <= quintiles['F'][.4]:\n",
    "        return 4\n",
    "    elif x <= quintiles['F'][.6]:\n",
    "        return 3\n",
    "    elif x <= quintiles['F'][.8]:\n",
    "        return 2\n",
    "    else:\n",
    "        return 1\n",
    "\n",
    "def rm_score(x, c):\n",
    "    if x <= quintiles[c][.2]:\n",
    "        return 1\n",
    "    elif x <= quintiles[c][.4]:\n",
    "        return 2\n",
    "    elif x <= quintiles[c][.6]:\n",
    "        return 3\n",
    "    elif x <= quintiles[c][.8]:\n",
    "        return 4\n",
    "    else:\n",
    "        return 5 \n",
    "# Запишем ранги\n",
    "RFM['R_score'] = RFM['R'].apply(lambda x: rm_score(x, 'R'))\n",
    "RFM['F_score'] = RFM['F'].apply(lambda x: f_score(x))\n",
    "RFM['M_score'] = RFM['M'].apply(lambda x: rm_score(x, 'M'))\n",
    "\n",
    "# Запишем код RFM для каждого студента\n",
    "RFM['RFM_Score'] = RFM['R_score'].map(str) + RFM['F_score'].map(str) + RFM['M_score'].map(str)\n",
    "\n",
    "# Время идейно расписать имена для кластеров\n",
    "segt_map = {\n",
    "    r'[1-2][1-2]': 'hibernating',\n",
    "    r'[1-2][3-4]': 'at risk',\n",
    "    r'[1-2]5': 'can\\'t loose',\n",
    "    r'3[1-2]': 'about to sleep',\n",
    "    r'33': 'need attention',\n",
    "    r'[3-4][4-5]': 'loyal customers',\n",
    "    r'41': 'promising',\n",
    "    r'51': 'new customers',\n",
    "    r'[4-5][2-3]': 'potential loyalists',\n",
    "    r'5[4-5]': 'champions'\n",
    "}\n",
    "\n",
    "RFM['Segment'] = RFM['R_score'].map(str) + RFM['F_score'].map(str)\n",
    "RFM['Segment'] = RFM['Segment'].replace(segt_map, regex=True)\n",
    "RFM.head()\n",
    "print(quintiles)"
   ]
  },
  {
   "cell_type": "markdown",
   "metadata": {},
   "source": [
    "### Ответ:\n",
    "\n",
    "\n",
    "### Интересные наблюдения полученные в процессе поиска ответа:\n",
    "Я решил использовать другие метрики:\n",
    "- R - средний срок записи на курс (характеризует клиента, как покупателя)\n",
    "- F - средня средняя оценка за курс с учётом накопа (характеризует клиента, как ученика)\n",
    "- M - коэффициент прохождения курсов, отражающий количество курсов и долю завершения (говорит о нашей возможности заработать на этом клиенте)\n",
    "Тому, что мы с репликами правильно поработали, свидетельствует схождение размеров датафреймов R и M\n",
    "\n",
    "### Созданные переменные\n",
    "- st_marks_all (df) -  добавил среднюю оценку\n",
    "- st_marks_all_long (df) - длинный формат таблицы выше\n",
    "- st_marks_all_long_filter (df) - таблица выше, но без предмета GGG\n",
    "- R (df) - id студента и метрика R\n",
    "- F (df) - id студента и метрика F\n",
    "- course_length (df) - длина курсов\n",
    "- unreg_length (df) - время выписывания студента и длина курса\n",
    "- M (df) - id студента и метрика M\n",
    "- quintiles (dict) - словарь с квантилями\n",
    "- RFM (df) - фрейм с id студента, баллами и сырыми RFM + сегменты\n",
    "- segt_map (dict) - словарь с именами кластеров"
   ]
  },
  {
   "cell_type": "markdown",
   "metadata": {},
   "source": [
    "## Общие выводы"
   ]
  }
 ],
 "metadata": {
  "kernelspec": {
   "display_name": "Python 3",
   "language": "python",
   "name": "python3"
  },
  "language_info": {
   "codemirror_mode": {
    "name": "ipython",
    "version": 3
   },
   "file_extension": ".py",
   "mimetype": "text/x-python",
   "name": "python",
   "nbconvert_exporter": "python",
   "pygments_lexer": "ipython3",
   "version": "3.7.3"
  }
 },
 "nbformat": 4,
 "nbformat_minor": 4
}
